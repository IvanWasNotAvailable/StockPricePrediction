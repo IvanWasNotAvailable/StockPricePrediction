{
  "nbformat": 4,
  "nbformat_minor": 0,
  "metadata": {
    "colab": {
      "provenance": [],
      "authorship_tag": "ABX9TyM1E6/RHpJhpJU2YI8W/PKM",
      "include_colab_link": true
    },
    "kernelspec": {
      "name": "python3",
      "display_name": "Python 3"
    },
    "language_info": {
      "name": "python"
    }
  },
  "cells": [
    {
      "cell_type": "markdown",
      "metadata": {
        "id": "view-in-github",
        "colab_type": "text"
      },
      "source": [
        "<a href=\"https://colab.research.google.com/github/IvanWasNotAvailable/StockPricePrediction/blob/main/Sentiment140.ipynb\" target=\"_parent\"><img src=\"https://colab.research.google.com/assets/colab-badge.svg\" alt=\"Open In Colab\"/></a>"
      ]
    },
    {
      "cell_type": "markdown",
      "source": [
        "#0. Imports"
      ],
      "metadata": {
        "id": "mYblRvB_wRe1"
      }
    },
    {
      "cell_type": "code",
      "execution_count": 1,
      "metadata": {
        "id": "N3vwMCZ5R3Zb"
      },
      "outputs": [],
      "source": [
        "from sklearn.feature_extraction.text import TfidfVectorizer\n",
        "from sklearn.svm import LinearSVC\n",
        "import pandas as pd\n",
        "from sklearn.model_selection import train_test_split\n",
        "from sklearn.metrics import confusion_matrix\n",
        "import seaborn as sn\n",
        "import matplotlib.pyplot as plt"
      ]
    },
    {
      "cell_type": "markdown",
      "source": [
        "##0.1 Import Sentiment140 Dataset\n",
        "The Sentiment140 dataset is a collection of 1.6 million tweets that have been tagged as either positive or negative."
      ],
      "metadata": {
        "id": "WrPXNDTH0KXy"
      }
    },
    {
      "cell_type": "code",
      "source": [
        "!mkdir -p data\n",
        "!wget -nc https://nyc3.digitaloceanspaces.com/ml-files-distro/v1/investigating-sentiment-analysis/data/training.1600000.processed.noemoticon.csv.zip -P data\n",
        "!unzip -n -d data data/training.1600000.processed.noemoticon.csv.zip"
      ],
      "metadata": {
        "colab": {
          "base_uri": "https://localhost:8080/"
        },
        "id": "6a9DzfZ7wdFZ",
        "outputId": "f18c0f24-aa6b-4044-9991-bb1d5f40a1e8"
      },
      "execution_count": 2,
      "outputs": [
        {
          "output_type": "stream",
          "name": "stdout",
          "text": [
            "--2022-12-08 18:50:55--  https://nyc3.digitaloceanspaces.com/ml-files-distro/v1/investigating-sentiment-analysis/data/training.1600000.processed.noemoticon.csv.zip\n",
            "Resolving nyc3.digitaloceanspaces.com (nyc3.digitaloceanspaces.com)... 162.243.189.2\n",
            "Connecting to nyc3.digitaloceanspaces.com (nyc3.digitaloceanspaces.com)|162.243.189.2|:443... connected.\n",
            "HTTP request sent, awaiting response... 200 OK\n",
            "Length: 85088192 (81M) [application/zip]\n",
            "Saving to: ‘data/training.1600000.processed.noemoticon.csv.zip’\n",
            "\n",
            "training.1600000.pr 100%[===================>]  81.15M  31.2MB/s    in 2.6s    \n",
            "\n",
            "2022-12-08 18:50:58 (31.2 MB/s) - ‘data/training.1600000.processed.noemoticon.csv.zip’ saved [85088192/85088192]\n",
            "\n",
            "Archive:  data/training.1600000.processed.noemoticon.csv.zip\n",
            "  inflating: data/training.1600000.processed.noemoticon.csv  \n"
          ]
        }
      ]
    },
    {
      "cell_type": "markdown",
      "source": [
        "#1. Prep Work"
      ],
      "metadata": {
        "id": "7TU5kD-mzvG_"
      }
    },
    {
      "cell_type": "code",
      "source": [
        "#Read the tweets\n",
        "df = pd.read_csv(\"data/training.1600000.processed.noemoticon.csv\",\n",
        "                names=['polarity', 'id', 'date', 'query', 'user', 'text'],\n",
        "                encoding='latin-1')\n",
        "df.head()"
      ],
      "metadata": {
        "colab": {
          "base_uri": "https://localhost:8080/",
          "height": 204
        },
        "id": "TtAvXHVLwqBu",
        "outputId": "1abec2b1-a4b8-4528-9aca-125ea278bb56"
      },
      "execution_count": 3,
      "outputs": [
        {
          "output_type": "execute_result",
          "data": {
            "text/plain": [
              "   polarity          id                          date     query  \\\n",
              "0         0  1467810369  Mon Apr 06 22:19:45 PDT 2009  NO_QUERY   \n",
              "1         0  1467810672  Mon Apr 06 22:19:49 PDT 2009  NO_QUERY   \n",
              "2         0  1467810917  Mon Apr 06 22:19:53 PDT 2009  NO_QUERY   \n",
              "3         0  1467811184  Mon Apr 06 22:19:57 PDT 2009  NO_QUERY   \n",
              "4         0  1467811193  Mon Apr 06 22:19:57 PDT 2009  NO_QUERY   \n",
              "\n",
              "              user                                               text  \n",
              "0  _TheSpecialOne_  @switchfoot http://twitpic.com/2y1zl - Awww, t...  \n",
              "1    scotthamilton  is upset that he can't update his Facebook by ...  \n",
              "2         mattycus  @Kenichan I dived many times for the ball. Man...  \n",
              "3          ElleCTF    my whole body feels itchy and like its on fire   \n",
              "4           Karoli  @nationwideclass no, it's not behaving at all....  "
            ],
            "text/html": [
              "\n",
              "  <div id=\"df-154aaab0-5138-4365-87fc-e2dbb9f51713\">\n",
              "    <div class=\"colab-df-container\">\n",
              "      <div>\n",
              "<style scoped>\n",
              "    .dataframe tbody tr th:only-of-type {\n",
              "        vertical-align: middle;\n",
              "    }\n",
              "\n",
              "    .dataframe tbody tr th {\n",
              "        vertical-align: top;\n",
              "    }\n",
              "\n",
              "    .dataframe thead th {\n",
              "        text-align: right;\n",
              "    }\n",
              "</style>\n",
              "<table border=\"1\" class=\"dataframe\">\n",
              "  <thead>\n",
              "    <tr style=\"text-align: right;\">\n",
              "      <th></th>\n",
              "      <th>polarity</th>\n",
              "      <th>id</th>\n",
              "      <th>date</th>\n",
              "      <th>query</th>\n",
              "      <th>user</th>\n",
              "      <th>text</th>\n",
              "    </tr>\n",
              "  </thead>\n",
              "  <tbody>\n",
              "    <tr>\n",
              "      <th>0</th>\n",
              "      <td>0</td>\n",
              "      <td>1467810369</td>\n",
              "      <td>Mon Apr 06 22:19:45 PDT 2009</td>\n",
              "      <td>NO_QUERY</td>\n",
              "      <td>_TheSpecialOne_</td>\n",
              "      <td>@switchfoot http://twitpic.com/2y1zl - Awww, t...</td>\n",
              "    </tr>\n",
              "    <tr>\n",
              "      <th>1</th>\n",
              "      <td>0</td>\n",
              "      <td>1467810672</td>\n",
              "      <td>Mon Apr 06 22:19:49 PDT 2009</td>\n",
              "      <td>NO_QUERY</td>\n",
              "      <td>scotthamilton</td>\n",
              "      <td>is upset that he can't update his Facebook by ...</td>\n",
              "    </tr>\n",
              "    <tr>\n",
              "      <th>2</th>\n",
              "      <td>0</td>\n",
              "      <td>1467810917</td>\n",
              "      <td>Mon Apr 06 22:19:53 PDT 2009</td>\n",
              "      <td>NO_QUERY</td>\n",
              "      <td>mattycus</td>\n",
              "      <td>@Kenichan I dived many times for the ball. Man...</td>\n",
              "    </tr>\n",
              "    <tr>\n",
              "      <th>3</th>\n",
              "      <td>0</td>\n",
              "      <td>1467811184</td>\n",
              "      <td>Mon Apr 06 22:19:57 PDT 2009</td>\n",
              "      <td>NO_QUERY</td>\n",
              "      <td>ElleCTF</td>\n",
              "      <td>my whole body feels itchy and like its on fire</td>\n",
              "    </tr>\n",
              "    <tr>\n",
              "      <th>4</th>\n",
              "      <td>0</td>\n",
              "      <td>1467811193</td>\n",
              "      <td>Mon Apr 06 22:19:57 PDT 2009</td>\n",
              "      <td>NO_QUERY</td>\n",
              "      <td>Karoli</td>\n",
              "      <td>@nationwideclass no, it's not behaving at all....</td>\n",
              "    </tr>\n",
              "  </tbody>\n",
              "</table>\n",
              "</div>\n",
              "      <button class=\"colab-df-convert\" onclick=\"convertToInteractive('df-154aaab0-5138-4365-87fc-e2dbb9f51713')\"\n",
              "              title=\"Convert this dataframe to an interactive table.\"\n",
              "              style=\"display:none;\">\n",
              "        \n",
              "  <svg xmlns=\"http://www.w3.org/2000/svg\" height=\"24px\"viewBox=\"0 0 24 24\"\n",
              "       width=\"24px\">\n",
              "    <path d=\"M0 0h24v24H0V0z\" fill=\"none\"/>\n",
              "    <path d=\"M18.56 5.44l.94 2.06.94-2.06 2.06-.94-2.06-.94-.94-2.06-.94 2.06-2.06.94zm-11 1L8.5 8.5l.94-2.06 2.06-.94-2.06-.94L8.5 2.5l-.94 2.06-2.06.94zm10 10l.94 2.06.94-2.06 2.06-.94-2.06-.94-.94-2.06-.94 2.06-2.06.94z\"/><path d=\"M17.41 7.96l-1.37-1.37c-.4-.4-.92-.59-1.43-.59-.52 0-1.04.2-1.43.59L10.3 9.45l-7.72 7.72c-.78.78-.78 2.05 0 2.83L4 21.41c.39.39.9.59 1.41.59.51 0 1.02-.2 1.41-.59l7.78-7.78 2.81-2.81c.8-.78.8-2.07 0-2.86zM5.41 20L4 18.59l7.72-7.72 1.47 1.35L5.41 20z\"/>\n",
              "  </svg>\n",
              "      </button>\n",
              "      \n",
              "  <style>\n",
              "    .colab-df-container {\n",
              "      display:flex;\n",
              "      flex-wrap:wrap;\n",
              "      gap: 12px;\n",
              "    }\n",
              "\n",
              "    .colab-df-convert {\n",
              "      background-color: #E8F0FE;\n",
              "      border: none;\n",
              "      border-radius: 50%;\n",
              "      cursor: pointer;\n",
              "      display: none;\n",
              "      fill: #1967D2;\n",
              "      height: 32px;\n",
              "      padding: 0 0 0 0;\n",
              "      width: 32px;\n",
              "    }\n",
              "\n",
              "    .colab-df-convert:hover {\n",
              "      background-color: #E2EBFA;\n",
              "      box-shadow: 0px 1px 2px rgba(60, 64, 67, 0.3), 0px 1px 3px 1px rgba(60, 64, 67, 0.15);\n",
              "      fill: #174EA6;\n",
              "    }\n",
              "\n",
              "    [theme=dark] .colab-df-convert {\n",
              "      background-color: #3B4455;\n",
              "      fill: #D2E3FC;\n",
              "    }\n",
              "\n",
              "    [theme=dark] .colab-df-convert:hover {\n",
              "      background-color: #434B5C;\n",
              "      box-shadow: 0px 1px 3px 1px rgba(0, 0, 0, 0.15);\n",
              "      filter: drop-shadow(0px 1px 2px rgba(0, 0, 0, 0.3));\n",
              "      fill: #FFFFFF;\n",
              "    }\n",
              "  </style>\n",
              "\n",
              "      <script>\n",
              "        const buttonEl =\n",
              "          document.querySelector('#df-154aaab0-5138-4365-87fc-e2dbb9f51713 button.colab-df-convert');\n",
              "        buttonEl.style.display =\n",
              "          google.colab.kernel.accessAllowed ? 'block' : 'none';\n",
              "\n",
              "        async function convertToInteractive(key) {\n",
              "          const element = document.querySelector('#df-154aaab0-5138-4365-87fc-e2dbb9f51713');\n",
              "          const dataTable =\n",
              "            await google.colab.kernel.invokeFunction('convertToInteractive',\n",
              "                                                     [key], {});\n",
              "          if (!dataTable) return;\n",
              "\n",
              "          const docLinkHtml = 'Like what you see? Visit the ' +\n",
              "            '<a target=\"_blank\" href=https://colab.research.google.com/notebooks/data_table.ipynb>data table notebook</a>'\n",
              "            + ' to learn more about interactive tables.';\n",
              "          element.innerHTML = '';\n",
              "          dataTable['output_type'] = 'display_data';\n",
              "          await google.colab.output.renderOutput(dataTable, element);\n",
              "          const docLink = document.createElement('div');\n",
              "          docLink.innerHTML = docLinkHtml;\n",
              "          element.appendChild(docLink);\n",
              "        }\n",
              "      </script>\n",
              "    </div>\n",
              "  </div>\n",
              "  "
            ]
          },
          "metadata": {},
          "execution_count": 3
        }
      ]
    },
    {
      "cell_type": "markdown",
      "source": [
        "## Update polarity\n",
        "\n",
        "Right now the `polarity` column is `0` for negative, `4` for positive. We change that to `0` and `1` to make things a easier to read later."
      ],
      "metadata": {
        "id": "rHcBfYUp0vo-"
      }
    },
    {
      "cell_type": "code",
      "source": [
        "df.polarity = df.polarity.replace({0: 0, 4: 1})\n",
        "df.polarity.value_counts()"
      ],
      "metadata": {
        "colab": {
          "base_uri": "https://localhost:8080/"
        },
        "id": "PhXhqflv0-Ej",
        "outputId": "0ecb903e-f884-4c88-f422-e07676820bc0"
      },
      "execution_count": 4,
      "outputs": [
        {
          "output_type": "execute_result",
          "data": {
            "text/plain": [
              "0    800000\n",
              "1    800000\n",
              "Name: polarity, dtype: int64"
            ]
          },
          "metadata": {},
          "execution_count": 4
        }
      ]
    },
    {
      "cell_type": "markdown",
      "source": [
        "## Remove unneeded columns"
      ],
      "metadata": {
        "id": "YzBvTAgW1GFX"
      }
    },
    {
      "cell_type": "code",
      "source": [
        "df = df.drop(columns=['id', 'date', 'query', 'user'])\n",
        "df.head(100)"
      ],
      "metadata": {
        "colab": {
          "base_uri": "https://localhost:8080/",
          "height": 419
        },
        "id": "LXa8JpBG1GzI",
        "outputId": "b5d87776-a2f6-43c8-9a00-3fab80a328b1"
      },
      "execution_count": 5,
      "outputs": [
        {
          "output_type": "execute_result",
          "data": {
            "text/plain": [
              "    polarity                                               text\n",
              "0          0  @switchfoot http://twitpic.com/2y1zl - Awww, t...\n",
              "1          0  is upset that he can't update his Facebook by ...\n",
              "2          0  @Kenichan I dived many times for the ball. Man...\n",
              "3          0    my whole body feels itchy and like its on fire \n",
              "4          0  @nationwideclass no, it's not behaving at all....\n",
              "..       ...                                                ...\n",
              "95         0  Strider is a sick little puppy  http://apps.fa...\n",
              "96         0  so rylee,grace...wana go steve's party or not?...\n",
              "97         0  hey, I actually won one of my bracket pools! T...\n",
              "98         0  @stark YOU don't follow me, either  and i work...\n",
              "99         0  A bad nite for the favorite teams: Astros and ...\n",
              "\n",
              "[100 rows x 2 columns]"
            ],
            "text/html": [
              "\n",
              "  <div id=\"df-e82f4030-acc2-4ef0-a2c0-a6d0991e0fbb\">\n",
              "    <div class=\"colab-df-container\">\n",
              "      <div>\n",
              "<style scoped>\n",
              "    .dataframe tbody tr th:only-of-type {\n",
              "        vertical-align: middle;\n",
              "    }\n",
              "\n",
              "    .dataframe tbody tr th {\n",
              "        vertical-align: top;\n",
              "    }\n",
              "\n",
              "    .dataframe thead th {\n",
              "        text-align: right;\n",
              "    }\n",
              "</style>\n",
              "<table border=\"1\" class=\"dataframe\">\n",
              "  <thead>\n",
              "    <tr style=\"text-align: right;\">\n",
              "      <th></th>\n",
              "      <th>polarity</th>\n",
              "      <th>text</th>\n",
              "    </tr>\n",
              "  </thead>\n",
              "  <tbody>\n",
              "    <tr>\n",
              "      <th>0</th>\n",
              "      <td>0</td>\n",
              "      <td>@switchfoot http://twitpic.com/2y1zl - Awww, t...</td>\n",
              "    </tr>\n",
              "    <tr>\n",
              "      <th>1</th>\n",
              "      <td>0</td>\n",
              "      <td>is upset that he can't update his Facebook by ...</td>\n",
              "    </tr>\n",
              "    <tr>\n",
              "      <th>2</th>\n",
              "      <td>0</td>\n",
              "      <td>@Kenichan I dived many times for the ball. Man...</td>\n",
              "    </tr>\n",
              "    <tr>\n",
              "      <th>3</th>\n",
              "      <td>0</td>\n",
              "      <td>my whole body feels itchy and like its on fire</td>\n",
              "    </tr>\n",
              "    <tr>\n",
              "      <th>4</th>\n",
              "      <td>0</td>\n",
              "      <td>@nationwideclass no, it's not behaving at all....</td>\n",
              "    </tr>\n",
              "    <tr>\n",
              "      <th>...</th>\n",
              "      <td>...</td>\n",
              "      <td>...</td>\n",
              "    </tr>\n",
              "    <tr>\n",
              "      <th>95</th>\n",
              "      <td>0</td>\n",
              "      <td>Strider is a sick little puppy  http://apps.fa...</td>\n",
              "    </tr>\n",
              "    <tr>\n",
              "      <th>96</th>\n",
              "      <td>0</td>\n",
              "      <td>so rylee,grace...wana go steve's party or not?...</td>\n",
              "    </tr>\n",
              "    <tr>\n",
              "      <th>97</th>\n",
              "      <td>0</td>\n",
              "      <td>hey, I actually won one of my bracket pools! T...</td>\n",
              "    </tr>\n",
              "    <tr>\n",
              "      <th>98</th>\n",
              "      <td>0</td>\n",
              "      <td>@stark YOU don't follow me, either  and i work...</td>\n",
              "    </tr>\n",
              "    <tr>\n",
              "      <th>99</th>\n",
              "      <td>0</td>\n",
              "      <td>A bad nite for the favorite teams: Astros and ...</td>\n",
              "    </tr>\n",
              "  </tbody>\n",
              "</table>\n",
              "<p>100 rows × 2 columns</p>\n",
              "</div>\n",
              "      <button class=\"colab-df-convert\" onclick=\"convertToInteractive('df-e82f4030-acc2-4ef0-a2c0-a6d0991e0fbb')\"\n",
              "              title=\"Convert this dataframe to an interactive table.\"\n",
              "              style=\"display:none;\">\n",
              "        \n",
              "  <svg xmlns=\"http://www.w3.org/2000/svg\" height=\"24px\"viewBox=\"0 0 24 24\"\n",
              "       width=\"24px\">\n",
              "    <path d=\"M0 0h24v24H0V0z\" fill=\"none\"/>\n",
              "    <path d=\"M18.56 5.44l.94 2.06.94-2.06 2.06-.94-2.06-.94-.94-2.06-.94 2.06-2.06.94zm-11 1L8.5 8.5l.94-2.06 2.06-.94-2.06-.94L8.5 2.5l-.94 2.06-2.06.94zm10 10l.94 2.06.94-2.06 2.06-.94-2.06-.94-.94-2.06-.94 2.06-2.06.94z\"/><path d=\"M17.41 7.96l-1.37-1.37c-.4-.4-.92-.59-1.43-.59-.52 0-1.04.2-1.43.59L10.3 9.45l-7.72 7.72c-.78.78-.78 2.05 0 2.83L4 21.41c.39.39.9.59 1.41.59.51 0 1.02-.2 1.41-.59l7.78-7.78 2.81-2.81c.8-.78.8-2.07 0-2.86zM5.41 20L4 18.59l7.72-7.72 1.47 1.35L5.41 20z\"/>\n",
              "  </svg>\n",
              "      </button>\n",
              "      \n",
              "  <style>\n",
              "    .colab-df-container {\n",
              "      display:flex;\n",
              "      flex-wrap:wrap;\n",
              "      gap: 12px;\n",
              "    }\n",
              "\n",
              "    .colab-df-convert {\n",
              "      background-color: #E8F0FE;\n",
              "      border: none;\n",
              "      border-radius: 50%;\n",
              "      cursor: pointer;\n",
              "      display: none;\n",
              "      fill: #1967D2;\n",
              "      height: 32px;\n",
              "      padding: 0 0 0 0;\n",
              "      width: 32px;\n",
              "    }\n",
              "\n",
              "    .colab-df-convert:hover {\n",
              "      background-color: #E2EBFA;\n",
              "      box-shadow: 0px 1px 2px rgba(60, 64, 67, 0.3), 0px 1px 3px 1px rgba(60, 64, 67, 0.15);\n",
              "      fill: #174EA6;\n",
              "    }\n",
              "\n",
              "    [theme=dark] .colab-df-convert {\n",
              "      background-color: #3B4455;\n",
              "      fill: #D2E3FC;\n",
              "    }\n",
              "\n",
              "    [theme=dark] .colab-df-convert:hover {\n",
              "      background-color: #434B5C;\n",
              "      box-shadow: 0px 1px 3px 1px rgba(0, 0, 0, 0.15);\n",
              "      filter: drop-shadow(0px 1px 2px rgba(0, 0, 0, 0.3));\n",
              "      fill: #FFFFFF;\n",
              "    }\n",
              "  </style>\n",
              "\n",
              "      <script>\n",
              "        const buttonEl =\n",
              "          document.querySelector('#df-e82f4030-acc2-4ef0-a2c0-a6d0991e0fbb button.colab-df-convert');\n",
              "        buttonEl.style.display =\n",
              "          google.colab.kernel.accessAllowed ? 'block' : 'none';\n",
              "\n",
              "        async function convertToInteractive(key) {\n",
              "          const element = document.querySelector('#df-e82f4030-acc2-4ef0-a2c0-a6d0991e0fbb');\n",
              "          const dataTable =\n",
              "            await google.colab.kernel.invokeFunction('convertToInteractive',\n",
              "                                                     [key], {});\n",
              "          if (!dataTable) return;\n",
              "\n",
              "          const docLinkHtml = 'Like what you see? Visit the ' +\n",
              "            '<a target=\"_blank\" href=https://colab.research.google.com/notebooks/data_table.ipynb>data table notebook</a>'\n",
              "            + ' to learn more about interactive tables.';\n",
              "          element.innerHTML = '';\n",
              "          dataTable['output_type'] = 'display_data';\n",
              "          await google.colab.output.renderOutput(dataTable, element);\n",
              "          const docLink = document.createElement('div');\n",
              "          docLink.innerHTML = docLinkHtml;\n",
              "          element.appendChild(docLink);\n",
              "        }\n",
              "      </script>\n",
              "    </div>\n",
              "  </div>\n",
              "  "
            ]
          },
          "metadata": {},
          "execution_count": 5
        }
      ]
    },
    {
      "cell_type": "markdown",
      "source": [
        "## Sample\n",
        "\n",
        "To decrease the filesize and easier use we reduce the set to 100,000 tweets."
      ],
      "metadata": {
        "id": "8dSx8mIz1R9v"
      }
    },
    {
      "cell_type": "code",
      "source": [
        "df = df.sample(n=100000)\n",
        "df.polarity.value_counts()"
      ],
      "metadata": {
        "colab": {
          "base_uri": "https://localhost:8080/"
        },
        "id": "t2osJUzO1rbO",
        "outputId": "4797d581-804b-450d-b8a5-944da6930c63"
      },
      "execution_count": 6,
      "outputs": [
        {
          "output_type": "execute_result",
          "data": {
            "text/plain": [
              "0    50029\n",
              "1    49971\n",
              "Name: polarity, dtype: int64"
            ]
          },
          "metadata": {},
          "execution_count": 6
        }
      ]
    },
    {
      "cell_type": "markdown",
      "source": [
        "#2. Training"
      ],
      "metadata": {
        "id": "fkeIN6ss14zh"
      }
    },
    {
      "cell_type": "markdown",
      "source": [
        "With our Sample of Sentiment140 - a list of tweets along with a score as to whether they're negative or positive we'll build our own machine learning algorithm to see separate positivity from negativity."
      ],
      "metadata": {
        "id": "1-hqswAz2NeC"
      }
    },
    {
      "cell_type": "markdown",
      "source": [
        "##Info on Dataframe"
      ],
      "metadata": {
        "id": "D8qjXWWJ3GlG"
      }
    },
    {
      "cell_type": "code",
      "source": [
        "df.shape"
      ],
      "metadata": {
        "colab": {
          "base_uri": "https://localhost:8080/"
        },
        "id": "sbSsedes18Fv",
        "outputId": "74f481fd-aa15-4d3c-aaf9-c07e49dd1646"
      },
      "execution_count": 7,
      "outputs": [
        {
          "output_type": "execute_result",
          "data": {
            "text/plain": [
              "(100000, 2)"
            ]
          },
          "metadata": {},
          "execution_count": 7
        }
      ]
    },
    {
      "cell_type": "code",
      "source": [
        "df.head()"
      ],
      "metadata": {
        "colab": {
          "base_uri": "https://localhost:8080/",
          "height": 204
        },
        "id": "POSg8kRY20R5",
        "outputId": "4694b1e0-ec80-4f3b-9e0c-91284582d06f"
      },
      "execution_count": 8,
      "outputs": [
        {
          "output_type": "execute_result",
          "data": {
            "text/plain": [
              "         polarity                                               text\n",
              "402016          0  I'm still in bed...sick  cough, stuffy nose, c...\n",
              "1062834         1                        Loving brum just for today \n",
              "1350178         1  Almost finishing a hard week! Going to tucson ...\n",
              "122761          0  @GOODENess357 take yo ass to bed lol I'm home ...\n",
              "364020          0  Damn AT&amp;T on my nerves. Been on phone for ..."
            ],
            "text/html": [
              "\n",
              "  <div id=\"df-9e0e90ff-7a50-41f3-b3ec-e60ae9962b64\">\n",
              "    <div class=\"colab-df-container\">\n",
              "      <div>\n",
              "<style scoped>\n",
              "    .dataframe tbody tr th:only-of-type {\n",
              "        vertical-align: middle;\n",
              "    }\n",
              "\n",
              "    .dataframe tbody tr th {\n",
              "        vertical-align: top;\n",
              "    }\n",
              "\n",
              "    .dataframe thead th {\n",
              "        text-align: right;\n",
              "    }\n",
              "</style>\n",
              "<table border=\"1\" class=\"dataframe\">\n",
              "  <thead>\n",
              "    <tr style=\"text-align: right;\">\n",
              "      <th></th>\n",
              "      <th>polarity</th>\n",
              "      <th>text</th>\n",
              "    </tr>\n",
              "  </thead>\n",
              "  <tbody>\n",
              "    <tr>\n",
              "      <th>402016</th>\n",
              "      <td>0</td>\n",
              "      <td>I'm still in bed...sick  cough, stuffy nose, c...</td>\n",
              "    </tr>\n",
              "    <tr>\n",
              "      <th>1062834</th>\n",
              "      <td>1</td>\n",
              "      <td>Loving brum just for today</td>\n",
              "    </tr>\n",
              "    <tr>\n",
              "      <th>1350178</th>\n",
              "      <td>1</td>\n",
              "      <td>Almost finishing a hard week! Going to tucson ...</td>\n",
              "    </tr>\n",
              "    <tr>\n",
              "      <th>122761</th>\n",
              "      <td>0</td>\n",
              "      <td>@GOODENess357 take yo ass to bed lol I'm home ...</td>\n",
              "    </tr>\n",
              "    <tr>\n",
              "      <th>364020</th>\n",
              "      <td>0</td>\n",
              "      <td>Damn AT&amp;amp;T on my nerves. Been on phone for ...</td>\n",
              "    </tr>\n",
              "  </tbody>\n",
              "</table>\n",
              "</div>\n",
              "      <button class=\"colab-df-convert\" onclick=\"convertToInteractive('df-9e0e90ff-7a50-41f3-b3ec-e60ae9962b64')\"\n",
              "              title=\"Convert this dataframe to an interactive table.\"\n",
              "              style=\"display:none;\">\n",
              "        \n",
              "  <svg xmlns=\"http://www.w3.org/2000/svg\" height=\"24px\"viewBox=\"0 0 24 24\"\n",
              "       width=\"24px\">\n",
              "    <path d=\"M0 0h24v24H0V0z\" fill=\"none\"/>\n",
              "    <path d=\"M18.56 5.44l.94 2.06.94-2.06 2.06-.94-2.06-.94-.94-2.06-.94 2.06-2.06.94zm-11 1L8.5 8.5l.94-2.06 2.06-.94-2.06-.94L8.5 2.5l-.94 2.06-2.06.94zm10 10l.94 2.06.94-2.06 2.06-.94-2.06-.94-.94-2.06-.94 2.06-2.06.94z\"/><path d=\"M17.41 7.96l-1.37-1.37c-.4-.4-.92-.59-1.43-.59-.52 0-1.04.2-1.43.59L10.3 9.45l-7.72 7.72c-.78.78-.78 2.05 0 2.83L4 21.41c.39.39.9.59 1.41.59.51 0 1.02-.2 1.41-.59l7.78-7.78 2.81-2.81c.8-.78.8-2.07 0-2.86zM5.41 20L4 18.59l7.72-7.72 1.47 1.35L5.41 20z\"/>\n",
              "  </svg>\n",
              "      </button>\n",
              "      \n",
              "  <style>\n",
              "    .colab-df-container {\n",
              "      display:flex;\n",
              "      flex-wrap:wrap;\n",
              "      gap: 12px;\n",
              "    }\n",
              "\n",
              "    .colab-df-convert {\n",
              "      background-color: #E8F0FE;\n",
              "      border: none;\n",
              "      border-radius: 50%;\n",
              "      cursor: pointer;\n",
              "      display: none;\n",
              "      fill: #1967D2;\n",
              "      height: 32px;\n",
              "      padding: 0 0 0 0;\n",
              "      width: 32px;\n",
              "    }\n",
              "\n",
              "    .colab-df-convert:hover {\n",
              "      background-color: #E2EBFA;\n",
              "      box-shadow: 0px 1px 2px rgba(60, 64, 67, 0.3), 0px 1px 3px 1px rgba(60, 64, 67, 0.15);\n",
              "      fill: #174EA6;\n",
              "    }\n",
              "\n",
              "    [theme=dark] .colab-df-convert {\n",
              "      background-color: #3B4455;\n",
              "      fill: #D2E3FC;\n",
              "    }\n",
              "\n",
              "    [theme=dark] .colab-df-convert:hover {\n",
              "      background-color: #434B5C;\n",
              "      box-shadow: 0px 1px 3px 1px rgba(0, 0, 0, 0.15);\n",
              "      filter: drop-shadow(0px 1px 2px rgba(0, 0, 0, 0.3));\n",
              "      fill: #FFFFFF;\n",
              "    }\n",
              "  </style>\n",
              "\n",
              "      <script>\n",
              "        const buttonEl =\n",
              "          document.querySelector('#df-9e0e90ff-7a50-41f3-b3ec-e60ae9962b64 button.colab-df-convert');\n",
              "        buttonEl.style.display =\n",
              "          google.colab.kernel.accessAllowed ? 'block' : 'none';\n",
              "\n",
              "        async function convertToInteractive(key) {\n",
              "          const element = document.querySelector('#df-9e0e90ff-7a50-41f3-b3ec-e60ae9962b64');\n",
              "          const dataTable =\n",
              "            await google.colab.kernel.invokeFunction('convertToInteractive',\n",
              "                                                     [key], {});\n",
              "          if (!dataTable) return;\n",
              "\n",
              "          const docLinkHtml = 'Like what you see? Visit the ' +\n",
              "            '<a target=\"_blank\" href=https://colab.research.google.com/notebooks/data_table.ipynb>data table notebook</a>'\n",
              "            + ' to learn more about interactive tables.';\n",
              "          element.innerHTML = '';\n",
              "          dataTable['output_type'] = 'display_data';\n",
              "          await google.colab.output.renderOutput(dataTable, element);\n",
              "          const docLink = document.createElement('div');\n",
              "          docLink.innerHTML = docLinkHtml;\n",
              "          element.appendChild(docLink);\n",
              "        }\n",
              "      </script>\n",
              "    </div>\n",
              "  </div>\n",
              "  "
            ]
          },
          "metadata": {},
          "execution_count": 8
        }
      ]
    },
    {
      "cell_type": "code",
      "source": [
        "df.polarity.value_counts()"
      ],
      "metadata": {
        "colab": {
          "base_uri": "https://localhost:8080/"
        },
        "id": "Z2O3aorl3BeU",
        "outputId": "4725c41f-16fc-4540-d3ef-49c68ec47983"
      },
      "execution_count": 9,
      "outputs": [
        {
          "output_type": "execute_result",
          "data": {
            "text/plain": [
              "0    50029\n",
              "1    49971\n",
              "Name: polarity, dtype: int64"
            ]
          },
          "metadata": {},
          "execution_count": 9
        }
      ]
    },
    {
      "cell_type": "markdown",
      "source": [
        "##Vectorize Tweets"
      ],
      "metadata": {
        "id": "jHNjl6DF3Ovr"
      }
    },
    {
      "cell_type": "markdown",
      "source": [
        "Create a `TfidfVectorizer` and use it to vectorize our tweets. \n",
        "For easier use we use `max_features` to only take a selection (2k) of terms."
      ],
      "metadata": {
        "id": "SLWGiLcX3fx0"
      }
    },
    {
      "cell_type": "code",
      "source": [
        "vectorizer = TfidfVectorizer(max_features=2000)\n",
        "vectors = vectorizer.fit_transform(df.text)\n",
        "words_df = pd.DataFrame(vectors.toarray(), columns=vectorizer.get_feature_names())\n",
        "words_df.head()"
      ],
      "metadata": {
        "colab": {
          "base_uri": "https://localhost:8080/",
          "height": 287
        },
        "id": "3Z5AxS8i3Rk0",
        "outputId": "d01e69e7-6919-4de7-c62d-4e7967895c65"
      },
      "execution_count": 10,
      "outputs": [
        {
          "output_type": "stream",
          "name": "stderr",
          "text": [
            "/usr/local/lib/python3.8/dist-packages/sklearn/utils/deprecation.py:87: FutureWarning: Function get_feature_names is deprecated; get_feature_names is deprecated in 1.0 and will be removed in 1.2. Please use get_feature_names_out instead.\n",
            "  warnings.warn(msg, category=FutureWarning)\n"
          ]
        },
        {
          "output_type": "execute_result",
          "data": {
            "text/plain": [
              "    00  000   09   10  100   11   12   13   14  140  ...  young  your  youre  \\\n",
              "0  0.0  0.0  0.0  0.0  0.0  0.0  0.0  0.0  0.0  0.0  ...    0.0   0.0    0.0   \n",
              "1  0.0  0.0  0.0  0.0  0.0  0.0  0.0  0.0  0.0  0.0  ...    0.0   0.0    0.0   \n",
              "2  0.0  0.0  0.0  0.0  0.0  0.0  0.0  0.0  0.0  0.0  ...    0.0   0.0    0.0   \n",
              "3  0.0  0.0  0.0  0.0  0.0  0.0  0.0  0.0  0.0  0.0  ...    0.0   0.0    0.0   \n",
              "4  0.0  0.0  0.0  0.0  0.0  0.0  0.0  0.0  0.0  0.0  ...    0.0   0.0    0.0   \n",
              "\n",
              "   yours  yourself  youtube   yr  yum  yummy  yup  \n",
              "0    0.0       0.0      0.0  0.0  0.0    0.0  0.0  \n",
              "1    0.0       0.0      0.0  0.0  0.0    0.0  0.0  \n",
              "2    0.0       0.0      0.0  0.0  0.0    0.0  0.0  \n",
              "3    0.0       0.0      0.0  0.0  0.0    0.0  0.0  \n",
              "4    0.0       0.0      0.0  0.0  0.0    0.0  0.0  \n",
              "\n",
              "[5 rows x 2000 columns]"
            ],
            "text/html": [
              "\n",
              "  <div id=\"df-d756a57f-d9ee-4d50-b051-47939b958f95\">\n",
              "    <div class=\"colab-df-container\">\n",
              "      <div>\n",
              "<style scoped>\n",
              "    .dataframe tbody tr th:only-of-type {\n",
              "        vertical-align: middle;\n",
              "    }\n",
              "\n",
              "    .dataframe tbody tr th {\n",
              "        vertical-align: top;\n",
              "    }\n",
              "\n",
              "    .dataframe thead th {\n",
              "        text-align: right;\n",
              "    }\n",
              "</style>\n",
              "<table border=\"1\" class=\"dataframe\">\n",
              "  <thead>\n",
              "    <tr style=\"text-align: right;\">\n",
              "      <th></th>\n",
              "      <th>00</th>\n",
              "      <th>000</th>\n",
              "      <th>09</th>\n",
              "      <th>10</th>\n",
              "      <th>100</th>\n",
              "      <th>11</th>\n",
              "      <th>12</th>\n",
              "      <th>13</th>\n",
              "      <th>14</th>\n",
              "      <th>140</th>\n",
              "      <th>...</th>\n",
              "      <th>young</th>\n",
              "      <th>your</th>\n",
              "      <th>youre</th>\n",
              "      <th>yours</th>\n",
              "      <th>yourself</th>\n",
              "      <th>youtube</th>\n",
              "      <th>yr</th>\n",
              "      <th>yum</th>\n",
              "      <th>yummy</th>\n",
              "      <th>yup</th>\n",
              "    </tr>\n",
              "  </thead>\n",
              "  <tbody>\n",
              "    <tr>\n",
              "      <th>0</th>\n",
              "      <td>0.0</td>\n",
              "      <td>0.0</td>\n",
              "      <td>0.0</td>\n",
              "      <td>0.0</td>\n",
              "      <td>0.0</td>\n",
              "      <td>0.0</td>\n",
              "      <td>0.0</td>\n",
              "      <td>0.0</td>\n",
              "      <td>0.0</td>\n",
              "      <td>0.0</td>\n",
              "      <td>...</td>\n",
              "      <td>0.0</td>\n",
              "      <td>0.0</td>\n",
              "      <td>0.0</td>\n",
              "      <td>0.0</td>\n",
              "      <td>0.0</td>\n",
              "      <td>0.0</td>\n",
              "      <td>0.0</td>\n",
              "      <td>0.0</td>\n",
              "      <td>0.0</td>\n",
              "      <td>0.0</td>\n",
              "    </tr>\n",
              "    <tr>\n",
              "      <th>1</th>\n",
              "      <td>0.0</td>\n",
              "      <td>0.0</td>\n",
              "      <td>0.0</td>\n",
              "      <td>0.0</td>\n",
              "      <td>0.0</td>\n",
              "      <td>0.0</td>\n",
              "      <td>0.0</td>\n",
              "      <td>0.0</td>\n",
              "      <td>0.0</td>\n",
              "      <td>0.0</td>\n",
              "      <td>...</td>\n",
              "      <td>0.0</td>\n",
              "      <td>0.0</td>\n",
              "      <td>0.0</td>\n",
              "      <td>0.0</td>\n",
              "      <td>0.0</td>\n",
              "      <td>0.0</td>\n",
              "      <td>0.0</td>\n",
              "      <td>0.0</td>\n",
              "      <td>0.0</td>\n",
              "      <td>0.0</td>\n",
              "    </tr>\n",
              "    <tr>\n",
              "      <th>2</th>\n",
              "      <td>0.0</td>\n",
              "      <td>0.0</td>\n",
              "      <td>0.0</td>\n",
              "      <td>0.0</td>\n",
              "      <td>0.0</td>\n",
              "      <td>0.0</td>\n",
              "      <td>0.0</td>\n",
              "      <td>0.0</td>\n",
              "      <td>0.0</td>\n",
              "      <td>0.0</td>\n",
              "      <td>...</td>\n",
              "      <td>0.0</td>\n",
              "      <td>0.0</td>\n",
              "      <td>0.0</td>\n",
              "      <td>0.0</td>\n",
              "      <td>0.0</td>\n",
              "      <td>0.0</td>\n",
              "      <td>0.0</td>\n",
              "      <td>0.0</td>\n",
              "      <td>0.0</td>\n",
              "      <td>0.0</td>\n",
              "    </tr>\n",
              "    <tr>\n",
              "      <th>3</th>\n",
              "      <td>0.0</td>\n",
              "      <td>0.0</td>\n",
              "      <td>0.0</td>\n",
              "      <td>0.0</td>\n",
              "      <td>0.0</td>\n",
              "      <td>0.0</td>\n",
              "      <td>0.0</td>\n",
              "      <td>0.0</td>\n",
              "      <td>0.0</td>\n",
              "      <td>0.0</td>\n",
              "      <td>...</td>\n",
              "      <td>0.0</td>\n",
              "      <td>0.0</td>\n",
              "      <td>0.0</td>\n",
              "      <td>0.0</td>\n",
              "      <td>0.0</td>\n",
              "      <td>0.0</td>\n",
              "      <td>0.0</td>\n",
              "      <td>0.0</td>\n",
              "      <td>0.0</td>\n",
              "      <td>0.0</td>\n",
              "    </tr>\n",
              "    <tr>\n",
              "      <th>4</th>\n",
              "      <td>0.0</td>\n",
              "      <td>0.0</td>\n",
              "      <td>0.0</td>\n",
              "      <td>0.0</td>\n",
              "      <td>0.0</td>\n",
              "      <td>0.0</td>\n",
              "      <td>0.0</td>\n",
              "      <td>0.0</td>\n",
              "      <td>0.0</td>\n",
              "      <td>0.0</td>\n",
              "      <td>...</td>\n",
              "      <td>0.0</td>\n",
              "      <td>0.0</td>\n",
              "      <td>0.0</td>\n",
              "      <td>0.0</td>\n",
              "      <td>0.0</td>\n",
              "      <td>0.0</td>\n",
              "      <td>0.0</td>\n",
              "      <td>0.0</td>\n",
              "      <td>0.0</td>\n",
              "      <td>0.0</td>\n",
              "    </tr>\n",
              "  </tbody>\n",
              "</table>\n",
              "<p>5 rows × 2000 columns</p>\n",
              "</div>\n",
              "      <button class=\"colab-df-convert\" onclick=\"convertToInteractive('df-d756a57f-d9ee-4d50-b051-47939b958f95')\"\n",
              "              title=\"Convert this dataframe to an interactive table.\"\n",
              "              style=\"display:none;\">\n",
              "        \n",
              "  <svg xmlns=\"http://www.w3.org/2000/svg\" height=\"24px\"viewBox=\"0 0 24 24\"\n",
              "       width=\"24px\">\n",
              "    <path d=\"M0 0h24v24H0V0z\" fill=\"none\"/>\n",
              "    <path d=\"M18.56 5.44l.94 2.06.94-2.06 2.06-.94-2.06-.94-.94-2.06-.94 2.06-2.06.94zm-11 1L8.5 8.5l.94-2.06 2.06-.94-2.06-.94L8.5 2.5l-.94 2.06-2.06.94zm10 10l.94 2.06.94-2.06 2.06-.94-2.06-.94-.94-2.06-.94 2.06-2.06.94z\"/><path d=\"M17.41 7.96l-1.37-1.37c-.4-.4-.92-.59-1.43-.59-.52 0-1.04.2-1.43.59L10.3 9.45l-7.72 7.72c-.78.78-.78 2.05 0 2.83L4 21.41c.39.39.9.59 1.41.59.51 0 1.02-.2 1.41-.59l7.78-7.78 2.81-2.81c.8-.78.8-2.07 0-2.86zM5.41 20L4 18.59l7.72-7.72 1.47 1.35L5.41 20z\"/>\n",
              "  </svg>\n",
              "      </button>\n",
              "      \n",
              "  <style>\n",
              "    .colab-df-container {\n",
              "      display:flex;\n",
              "      flex-wrap:wrap;\n",
              "      gap: 12px;\n",
              "    }\n",
              "\n",
              "    .colab-df-convert {\n",
              "      background-color: #E8F0FE;\n",
              "      border: none;\n",
              "      border-radius: 50%;\n",
              "      cursor: pointer;\n",
              "      display: none;\n",
              "      fill: #1967D2;\n",
              "      height: 32px;\n",
              "      padding: 0 0 0 0;\n",
              "      width: 32px;\n",
              "    }\n",
              "\n",
              "    .colab-df-convert:hover {\n",
              "      background-color: #E2EBFA;\n",
              "      box-shadow: 0px 1px 2px rgba(60, 64, 67, 0.3), 0px 1px 3px 1px rgba(60, 64, 67, 0.15);\n",
              "      fill: #174EA6;\n",
              "    }\n",
              "\n",
              "    [theme=dark] .colab-df-convert {\n",
              "      background-color: #3B4455;\n",
              "      fill: #D2E3FC;\n",
              "    }\n",
              "\n",
              "    [theme=dark] .colab-df-convert:hover {\n",
              "      background-color: #434B5C;\n",
              "      box-shadow: 0px 1px 3px 1px rgba(0, 0, 0, 0.15);\n",
              "      filter: drop-shadow(0px 1px 2px rgba(0, 0, 0, 0.3));\n",
              "      fill: #FFFFFF;\n",
              "    }\n",
              "  </style>\n",
              "\n",
              "      <script>\n",
              "        const buttonEl =\n",
              "          document.querySelector('#df-d756a57f-d9ee-4d50-b051-47939b958f95 button.colab-df-convert');\n",
              "        buttonEl.style.display =\n",
              "          google.colab.kernel.accessAllowed ? 'block' : 'none';\n",
              "\n",
              "        async function convertToInteractive(key) {\n",
              "          const element = document.querySelector('#df-d756a57f-d9ee-4d50-b051-47939b958f95');\n",
              "          const dataTable =\n",
              "            await google.colab.kernel.invokeFunction('convertToInteractive',\n",
              "                                                     [key], {});\n",
              "          if (!dataTable) return;\n",
              "\n",
              "          const docLinkHtml = 'Like what you see? Visit the ' +\n",
              "            '<a target=\"_blank\" href=https://colab.research.google.com/notebooks/data_table.ipynb>data table notebook</a>'\n",
              "            + ' to learn more about interactive tables.';\n",
              "          element.innerHTML = '';\n",
              "          dataTable['output_type'] = 'display_data';\n",
              "          await google.colab.output.renderOutput(dataTable, element);\n",
              "          const docLink = document.createElement('div');\n",
              "          docLink.innerHTML = docLinkHtml;\n",
              "          element.appendChild(docLink);\n",
              "        }\n",
              "      </script>\n",
              "    </div>\n",
              "  </div>\n",
              "  "
            ]
          },
          "metadata": {},
          "execution_count": 10
        }
      ]
    },
    {
      "cell_type": "markdown",
      "source": [
        "## Training our algorithm\n",
        "\n",
        "### Setting up our variables\n",
        "\n",
        "`X` is all of our **features**, the things we use to predict positive or negative. That's going to be our words.\n",
        "\n",
        "`y` is all of our **labels**, the positive or negative rating. We'll use the `polarity` column for that."
      ],
      "metadata": {
        "id": "UAM5ZEF84c7I"
      }
    },
    {
      "cell_type": "code",
      "source": [
        "X = words_df\n",
        "y = df.polarity"
      ],
      "metadata": {
        "id": "vIfVxEPg4e1V"
      },
      "execution_count": 11,
      "outputs": []
    },
    {
      "cell_type": "markdown",
      "source": [
        "###Choose Algorithm\n",
        "\n",
        "We use **Linear-SVC** as our algorithm to train our data."
      ],
      "metadata": {
        "id": "fA57egBx5-Aq"
      }
    },
    {
      "cell_type": "code",
      "source": [
        "%%time\n",
        "# Create and train a linear support vector classifier (LinearSVC)\n",
        "svc = LinearSVC()\n",
        "svc.fit(X, y)"
      ],
      "metadata": {
        "colab": {
          "base_uri": "https://localhost:8080/"
        },
        "id": "rhpsNVm35j4b",
        "outputId": "535b373e-2f8f-43ce-b910-423a69e43db3"
      },
      "execution_count": 12,
      "outputs": [
        {
          "output_type": "stream",
          "name": "stdout",
          "text": [
            "CPU times: user 2.38 s, sys: 3.07 ms, total: 2.39 s\n",
            "Wall time: 2.37 s\n"
          ]
        },
        {
          "output_type": "execute_result",
          "data": {
            "text/plain": [
              "LinearSVC()"
            ]
          },
          "metadata": {},
          "execution_count": 12
        }
      ]
    },
    {
      "cell_type": "markdown",
      "source": [
        "#3. Start with sentiment analysis\n",
        "\n",
        "Since we trained our model, we can now **analyse the sentiment on speicific tweets** (or other text)."
      ],
      "metadata": {
        "id": "ul1FELp66oNZ"
      }
    },
    {
      "cell_type": "markdown",
      "source": [
        "##3.1 Import Tweets and vectorize"
      ],
      "metadata": {
        "id": "DSk5e3AN_5qw"
      }
    },
    {
      "cell_type": "code",
      "source": [
        "tweets = pd.read_csv('https://raw.githubusercontent.com/IvanWasNotAvailable/StockPricePrediction/main/tweets.csv',names=['text'], skiprows=1)"
      ],
      "metadata": {
        "id": "o027nBx48Lh2"
      },
      "execution_count": 13,
      "outputs": []
    },
    {
      "cell_type": "code",
      "source": [
        "tweets.head()"
      ],
      "metadata": {
        "colab": {
          "base_uri": "https://localhost:8080/",
          "height": 204
        },
        "id": "El0YiOj88M61",
        "outputId": "44ed392d-481f-40bf-8548-d04d9deb803f"
      },
      "execution_count": 14,
      "outputs": [
        {
          "output_type": "execute_result",
          "data": {
            "text/plain": [
              "                                                text\n",
              "0  Today, on International Civil Aviation Day, we...\n",
              "1  How can chemical production processes become m...\n",
              "2  Inditex and BASF have developed a detergent th...\n",
              "3  BASF to restore polluted Superfund site in New...\n",
              "4  “The damage done can never be wholly undone. N..."
            ],
            "text/html": [
              "\n",
              "  <div id=\"df-5572265a-81a3-4299-9d92-eecb6f8c8ae9\">\n",
              "    <div class=\"colab-df-container\">\n",
              "      <div>\n",
              "<style scoped>\n",
              "    .dataframe tbody tr th:only-of-type {\n",
              "        vertical-align: middle;\n",
              "    }\n",
              "\n",
              "    .dataframe tbody tr th {\n",
              "        vertical-align: top;\n",
              "    }\n",
              "\n",
              "    .dataframe thead th {\n",
              "        text-align: right;\n",
              "    }\n",
              "</style>\n",
              "<table border=\"1\" class=\"dataframe\">\n",
              "  <thead>\n",
              "    <tr style=\"text-align: right;\">\n",
              "      <th></th>\n",
              "      <th>text</th>\n",
              "    </tr>\n",
              "  </thead>\n",
              "  <tbody>\n",
              "    <tr>\n",
              "      <th>0</th>\n",
              "      <td>Today, on International Civil Aviation Day, we...</td>\n",
              "    </tr>\n",
              "    <tr>\n",
              "      <th>1</th>\n",
              "      <td>How can chemical production processes become m...</td>\n",
              "    </tr>\n",
              "    <tr>\n",
              "      <th>2</th>\n",
              "      <td>Inditex and BASF have developed a detergent th...</td>\n",
              "    </tr>\n",
              "    <tr>\n",
              "      <th>3</th>\n",
              "      <td>BASF to restore polluted Superfund site in New...</td>\n",
              "    </tr>\n",
              "    <tr>\n",
              "      <th>4</th>\n",
              "      <td>“The damage done can never be wholly undone. N...</td>\n",
              "    </tr>\n",
              "  </tbody>\n",
              "</table>\n",
              "</div>\n",
              "      <button class=\"colab-df-convert\" onclick=\"convertToInteractive('df-5572265a-81a3-4299-9d92-eecb6f8c8ae9')\"\n",
              "              title=\"Convert this dataframe to an interactive table.\"\n",
              "              style=\"display:none;\">\n",
              "        \n",
              "  <svg xmlns=\"http://www.w3.org/2000/svg\" height=\"24px\"viewBox=\"0 0 24 24\"\n",
              "       width=\"24px\">\n",
              "    <path d=\"M0 0h24v24H0V0z\" fill=\"none\"/>\n",
              "    <path d=\"M18.56 5.44l.94 2.06.94-2.06 2.06-.94-2.06-.94-.94-2.06-.94 2.06-2.06.94zm-11 1L8.5 8.5l.94-2.06 2.06-.94-2.06-.94L8.5 2.5l-.94 2.06-2.06.94zm10 10l.94 2.06.94-2.06 2.06-.94-2.06-.94-.94-2.06-.94 2.06-2.06.94z\"/><path d=\"M17.41 7.96l-1.37-1.37c-.4-.4-.92-.59-1.43-.59-.52 0-1.04.2-1.43.59L10.3 9.45l-7.72 7.72c-.78.78-.78 2.05 0 2.83L4 21.41c.39.39.9.59 1.41.59.51 0 1.02-.2 1.41-.59l7.78-7.78 2.81-2.81c.8-.78.8-2.07 0-2.86zM5.41 20L4 18.59l7.72-7.72 1.47 1.35L5.41 20z\"/>\n",
              "  </svg>\n",
              "      </button>\n",
              "      \n",
              "  <style>\n",
              "    .colab-df-container {\n",
              "      display:flex;\n",
              "      flex-wrap:wrap;\n",
              "      gap: 12px;\n",
              "    }\n",
              "\n",
              "    .colab-df-convert {\n",
              "      background-color: #E8F0FE;\n",
              "      border: none;\n",
              "      border-radius: 50%;\n",
              "      cursor: pointer;\n",
              "      display: none;\n",
              "      fill: #1967D2;\n",
              "      height: 32px;\n",
              "      padding: 0 0 0 0;\n",
              "      width: 32px;\n",
              "    }\n",
              "\n",
              "    .colab-df-convert:hover {\n",
              "      background-color: #E2EBFA;\n",
              "      box-shadow: 0px 1px 2px rgba(60, 64, 67, 0.3), 0px 1px 3px 1px rgba(60, 64, 67, 0.15);\n",
              "      fill: #174EA6;\n",
              "    }\n",
              "\n",
              "    [theme=dark] .colab-df-convert {\n",
              "      background-color: #3B4455;\n",
              "      fill: #D2E3FC;\n",
              "    }\n",
              "\n",
              "    [theme=dark] .colab-df-convert:hover {\n",
              "      background-color: #434B5C;\n",
              "      box-shadow: 0px 1px 3px 1px rgba(0, 0, 0, 0.15);\n",
              "      filter: drop-shadow(0px 1px 2px rgba(0, 0, 0, 0.3));\n",
              "      fill: #FFFFFF;\n",
              "    }\n",
              "  </style>\n",
              "\n",
              "      <script>\n",
              "        const buttonEl =\n",
              "          document.querySelector('#df-5572265a-81a3-4299-9d92-eecb6f8c8ae9 button.colab-df-convert');\n",
              "        buttonEl.style.display =\n",
              "          google.colab.kernel.accessAllowed ? 'block' : 'none';\n",
              "\n",
              "        async function convertToInteractive(key) {\n",
              "          const element = document.querySelector('#df-5572265a-81a3-4299-9d92-eecb6f8c8ae9');\n",
              "          const dataTable =\n",
              "            await google.colab.kernel.invokeFunction('convertToInteractive',\n",
              "                                                     [key], {});\n",
              "          if (!dataTable) return;\n",
              "\n",
              "          const docLinkHtml = 'Like what you see? Visit the ' +\n",
              "            '<a target=\"_blank\" href=https://colab.research.google.com/notebooks/data_table.ipynb>data table notebook</a>'\n",
              "            + ' to learn more about interactive tables.';\n",
              "          element.innerHTML = '';\n",
              "          dataTable['output_type'] = 'display_data';\n",
              "          await google.colab.output.renderOutput(dataTable, element);\n",
              "          const docLink = document.createElement('div');\n",
              "          docLink.innerHTML = docLinkHtml;\n",
              "          element.appendChild(docLink);\n",
              "        }\n",
              "      </script>\n",
              "    </div>\n",
              "  </div>\n",
              "  "
            ]
          },
          "metadata": {},
          "execution_count": 14
        }
      ]
    },
    {
      "cell_type": "markdown",
      "source": [
        "First we need to **vectorizer** our sentences into numbers, so the algorithm can understand them.\n",
        "\n",
        "With `vectorizer.get_feature_names()` we see the list of the words the algorithm knows."
      ],
      "metadata": {
        "id": "ROdft847A5gO"
      }
    },
    {
      "cell_type": "code",
      "source": [
        "print(vectorizer.get_feature_names())"
      ],
      "metadata": {
        "colab": {
          "base_uri": "https://localhost:8080/"
        },
        "id": "UcZM3fhcAzCY",
        "outputId": "f1741e06-25bb-428e-e634-697f8edcba22"
      },
      "execution_count": 15,
      "outputs": [
        {
          "output_type": "stream",
          "name": "stdout",
          "text": [
            "['00', '000', '09', '10', '100', '11', '12', '13', '14', '140', '15', '16', '17', '18', '1st', '20', '200', '2009', '21', '24', '25', '2day', '2morrow', '2nd', '2nite', '30', '30am', '33', '3d', '3rd', '40', '45', '4th', '50', '60', '80', 'able', 'about', 'absolutely', 'abt', 'access', 'accident', 'account', 'ache', 'actually', 'ad', 'adam', 'add', 'added', 'addicted', 'adorable', 'afford', 'afraid', 'after', 'afternoon', 'again', 'against', 'age', 'ages', 'ago', 'agree', 'ah', 'ahaha', 'ahead', 'ahh', 'ahhh', 'ahhhh', 'ain', 'aint', 'air', 'airport', 'alarm', 'album', 'alex', 'alive', 'all', 'allergies', 'allowed', 'almost', 'alone', 'along', 'alot', 'already', 'alright', 'also', 'although', 'always', 'am', 'amazing', 'america', 'american', 'amp', 'an', 'and', 'andy', 'angry', 'annoyed', 'annoying', 'another', 'answer', 'any', 'anybody', 'anymore', 'anyone', 'anything', 'anytime', 'anyway', 'anyways', 'anywhere', 'apart', 'apartment', 'app', 'apparently', 'apple', 'appreciate', 'apps', 'are', 'area', 'aren', 'argh', 'arm', 'arms', 'around', 'arrived', 'art', 'article', 'as', 'asap', 'ashley', 'ask', 'asked', 'asking', 'asleep', 'ass', 'at', 'ate', 'atleast', 'atm', 'attention', 'august', 'aunt', 'australia', 'available', 'aw', 'awake', 'awards', 'away', 'awe', 'awesome', 'awful', 'awhile', 'aww', 'awww', 'awwww', 'b4', 'babe', 'babies', 'baby', 'back', 'background', 'bacon', 'bad', 'badly', 'bag', 'ball', 'band', 'bank', 'bar', 'barely', 'baseball', 'bath', 'battery', 'bay', 'bb', 'bbq', 'bc', 'bday', 'be', 'beach', 'bear', 'beat', 'beautiful', 'because', 'become', 'bed', 'bedtime', 'been', 'beer', 'before', 'beginning', 'behind', 'being', 'believe', 'ben', 'besides', 'best', 'bet', 'beta', 'better', 'between', 'bf', 'bff', 'bgt', 'big', 'biggest', 'bike', 'bill', 'bing', 'bird', 'birds', 'birthday', 'bit', 'bitch', 'black', 'blackberry', 'blah', 'blame', 'blast', 'bless', 'blessed', 'blip', 'block', 'blocked', 'blog', 'blood', 'bloody', 'blue', 'board', 'boat', 'body', 'boo', 'book', 'books', 'bored', 'boring', 'boss', 'boston', 'both', 'bought', 'bout', 'box', 'boy', 'boyfriend', 'boys', 'brain', 'brand', 'brazil', 'bread', 'break', 'breakfast', 'breaking', 'bright', 'brilliant', 'bring', 'bro', 'broke', 'broken', 'brother', 'brothers', 'brought', 'brown', 'btw', 'buddy', 'bug', 'bummed', 'bummer', 'bunch', 'burn', 'burned', 'burnt', 'bus', 'business', 'busy', 'but', 'butt', 'button', 'buy', 'buying', 'by', 'bye', 'cable', 'cafe', 'cake', 'cali', 'california', 'call', 'called', 'calling', 'calls', 'came', 'camera', 'camp', 'can', 'canada', 'cancelled', 'cannot', 'cant', 'car', 'card', 'care', 'case', 'cat', 'catch', 'catching', 'cats', 'caught', 'cause', 'cavs', 'cd', 'celebrate', 'cell', 'center', 'certainly', 'chance', 'change', 'changed', 'channel', 'characters', 'charge', 'chat', 'chatting', 'cheap', 'check', 'checked', 'checking', 'cheer', 'cheers', 'cheese', 'chemistry', 'chicago', 'chicken', 'child', 'children', 'chill', 'chillin', 'chilling', 'chinese', 'chocolate', 'choice', 'chris', 'chuck', 'church', 'city', 'class', 'classes', 'clean', 'cleaning', 'clear', 'click', 'client', 'clock', 'close', 'closed', 'clothes', 'clouds', 'cloudy', 'club', 'co', 'coast', 'code', 'coffee', 'cold', 'college', 'color', 'com', 'come', 'comes', 'coming', 'comment', 'comments', 'comp', 'company', 'complete', 'completely', 'computer', 'conan', 'concert', 'conference', 'confused', 'congrats', 'congratulations', 'connection', 'contest', 'control', 'cook', 'cookies', 'cooking', 'cool', 'copy', 'cos', 'couch', 'cough', 'could', 'couldn', 'couldnt', 'count', 'counting', 'country', 'couple', 'course', 'cousin', 'cousins', 'cover', 'covered', 'coz', 'crap', 'crappy', 'crash', 'craving', 'crazy', 'cream', 'credit', 'cried', 'cross', 'crossed', 'cry', 'crying', 'cuddle', 'cup', 'curious', 'currently', 'cut', 'cute', 'cuz', 'da', 'dad', 'daddy', 'daily', 'dammit', 'damn', 'dance', 'dancing', 'dang', 'danny', 'dark', 'darn', 'dat', 'date', 'daughter', 'dave', 'david', 'davidarchie', 'day', 'days', 'dc', 'ddlovato', 'de', 'dead', 'deal', 'dear', 'death', 'decided', 'deep', 'def', 'definitely', 'degrees', 'deleted', 'delicious', 'demi', 'dentist', 'depressed', 'depressing', 'deserve', 'design', 'desk', 'details', 'did', 'didn', 'didnt', 'die', 'died', 'diet', 'different', 'difficult', 'dinner', 'direct', 'disappointed', 'disney', 'dm', 'dnt', 'do', 'doctor', 'does', 'doesn', 'doesnt', 'dog', 'dogs', 'doin', 'doing', 'don', 'done', 'donniewahlberg', 'dont', 'door', 'double', 'doubt', 'down', 'download', 'dr', 'drama', 'dream', 'dreams', 'dress', 'dressed', 'drink', 'drinking', 'drinks', 'drive', 'driving', 'drop', 'dropped', 'drunk', 'dry', 'dude', 'due', 'dumb', 'dunno', 'during', 'dvd', 'dying', 'e3', 'each', 'ear', 'earlier', 'early', 'earth', 'easier', 'east', 'easy', 'eat', 'eating', 'ed', 'editing', 'eh', 'either', 'else', 'em', 'email', 'emails', 'empty', 'en', 'end', 'ended', 'ending', 'energy', 'england', 'english', 'enjoy', 'enjoyed', 'enjoying', 'enough', 'entire', 'epic', 'episode', 'episodes', 'error', 'especially', 'essay', 'etc', 'even', 'evening', 'event', 'ever', 'every', 'everybody', 'everyday', 'everyone', 'everything', 'everytime', 'everywhere', 'evil', 'ew', 'ex', 'exactly', 'exam', 'exams', 'excellent', 'except', 'excited', 'exciting', 'excuse', 'exhausted', 'expect', 'expensive', 'experience', 'extra', 'extremely', 'eye', 'eyes', 'fab', 'fabulous', 'face', 'facebook', 'fact', 'fail', 'failed', 'fair', 'fall', 'falling', 'fam', 'family', 'fan', 'fans', 'fantastic', 'far', 'fast', 'fat', 'father', 'fathers', 'fault', 'fav', 'fave', 'favorite', 'favourite', 'fb', 'feed', 'feel', 'feelin', 'feeling', 'feels', 'feet', 'fell', 'fellow', 'felt', 'festival', 'fever', 'few', 'ff', 'fight', 'figure', 'figured', 'film', 'final', 'finale', 'finally', 'finals', 'find', 'finding', 'fine', 'finger', 'fingers', 'finish', 'finished', 'finishing', 'fire', 'first', 'fish', 'fit', 'five', 'fix', 'fixed', 'flash', 'flat', 'flight', 'floor', 'florida', 'flowers', 'flu', 'fly', 'flying', 'fm', 'fml', 'folks', 'follow', 'followed', 'follower', 'followers', 'followfriday', 'following', 'food', 'foot', 'football', 'for', 'forever', 'forget', 'forgot', 'form', 'forward', 'found', 'four', 'france', 'freakin', 'freaking', 'free', 'freezing', 'french', 'fresh', 'friday', 'friend', 'friends', 'from', 'front', 'ftw', 'fuck', 'fucked', 'fuckin', 'fucking', 'full', 'fun', 'funny', 'future', 'gah', 'game', 'games', 'garden', 'gas', 'gave', 'gay', 'gd', 'germany', 'get', 'gets', 'gettin', 'getting', 'gift', 'gig', 'girl', 'girlfriend', 'girls', 'give', 'given', 'gives', 'giving', 'glad', 'glass', 'glasses', 'go', 'god', 'goes', 'goin', 'going', 'golf', 'gone', 'gonna', 'good', 'goodbye', 'goodmorning', 'goodness', 'goodnight', 'google', 'gorgeous', 'gosh', 'got', 'gotta', 'gotten', 'grad', 'graduation', 'grand', 'grandma', 'great', 'green', 'grey', 'gross', 'group', 'grow', 'grr', 'grrr', 'gt', 'guess', 'guitar', 'gunna', 'gutted', 'guy', 'guys', 'gym', 'ha', 'had', 'hah', 'haha', 'hahah', 'hahaha', 'hahahaha', 'hair', 'haircut', 'half', 'hand', 'hands', 'hang', 'hanging', 'hangover', 'hannah', 'happen', 'happened', 'happening', 'happens', 'happy', 'hard', 'harry', 'has', 'hasn', 'hat', 'hate', 'hates', 'hav', 'have', 'haven', 'havent', 'having', 'he', 'head', 'headache', 'headed', 'heading', 'hear', 'heard', 'hearing', 'heart', 'heat', 'heavy', 'heh', 'hehe', 'hehehe', 'hell', 'hello', 'help', 'helping', 'helps', 'her', 'here', 'hero', 'hes', 'hey', 'hi', 'high', 'hilarious', 'hill', 'hills', 'him', 'his', 'history', 'hit', 'hmm', 'hmmm', 'ho', 'hold', 'holiday', 'holidays', 'holy', 'home', 'homework', 'honey', 'hoo', 'hope', 'hopefully', 'hoping', 'horrible', 'hospital', 'hot', 'hotel', 'hour', 'hours', 'house', 'how', 'however', 'hows', 'hrs', 'http', 'hubby', 'hug', 'huge', 'hugs', 'huh', 'human', 'hun', 'hungry', 'hurt', 'hurting', 'hurts', 'husband', 'ice', 'id', 'idea', 'ideas', 'idk', 'idol', 'if', 'ii', 'ill', 'ily', 'im', 'ima', 'imagine', 'imma', 'important', 'in', 'indeed', 'info', 'inside', 'instead', 'interested', 'interesting', 'internet', 'interview', 'into', 'invite', 'iphone', 'ipod', 'is', 'ish', 'island', 'isn', 'isnt', 'issue', 'issues', 'it', 'its', 'itunes', 'ive', 'jack', 'jam', 'james', 'jason', 'jay', 'jb', 'jealous', 'jesus', 'jk', 'job', 'joe', 'john', 'join', 'joined', 'joke', 'jon', 'jonas', 'jonasbrothers', 'jonathanrknight', 'jordanknight', 'joy', 'juice', 'july', 'june', 'jus', 'just', 'kate', 'keep', 'keeping', 'keeps', 'kept', 'kevin', 'key', 'kick', 'kicked', 'kid', 'kidding', 'kids', 'kill', 'killed', 'killing', 'kind', 'kinda', 'king', 'kiss', 'kitchen', 'kitty', 'knee', 'knew', 'kno', 'know', 'knowing', 'knows', 'la', 'lack', 'ladies', 'lady', 'lake', 'lakers', 'lame', 'land', 'laptop', 'large', 'last', 'late', 'lately', 'later', 'latest', 'laugh', 'laughing', 'laundry', 'lauren', 'law', 'lay', 'laying', 'lazy', 'learn', 'learning', 'least', 'leave', 'leaves', 'leaving', 'left', 'leg', 'legs', 'less', 'lesson', 'let', 'lets', 'letting', 'level', 'library', 'lie', 'life', 'light', 'like', 'liked', 'likely', 'likes', 'liking', 'lil', 'limit', 'line', 'lines', 'link', 'links', 'list', 'listen', 'listening', 'literally', 'little', 'live', 'lived', 'lives', 'living', 'll', 'lmao', 'lmfao', 'load', 'loads', 'local', 'log', 'lol', 'london', 'lonely', 'long', 'longer', 'look', 'looked', 'lookin', 'looking', 'looks', 'lord', 'lose', 'losing', 'loss', 'lost', 'lot', 'lots', 'loud', 'love', 'loved', 'lovely', 'loves', 'lovin', 'loving', 'low', 'lt', 'luck', 'lucky', 'lunch', 'luv', 'ly', 'ma', 'mac', 'macbook', 'machine', 'mad', 'made', 'magic', 'mail', 'major', 'make', 'makes', 'making', 'mall', 'mama', 'man', 'many', 'marathon', 'mark', 'market', 'married', 'match', 'mate', 'math', 'maths', 'matt', 'matter', 'max', 'may', 'maybe', 'mcfly', 'me', 'mean', 'means', 'meant', 'media', 'meet', 'meeting', 'memories', 'memory', 'men', 'mention', 'mess', 'message', 'messages', 'met', 'mi', 'miami', 'michael', 'middle', 'midnight', 'might', 'mike', 'miles', 'miley', 'mileycyrus', 'milk', 'million', 'min', 'mind', 'mine', 'mini', 'mins', 'minute', 'minutes', 'miserable', 'miss', 'missed', 'misses', 'missing', 'mitchelmusso', 'mix', 'mmm', 'mmmm', 'mo', 'mobile', 'mom', 'moment', 'mommy', 'moms', 'mon', 'monday', 'mondays', 'money', 'montana', 'month', 'months', 'mood', 'moon', 'more', 'mornin', 'morning', 'most', 'mother', 'mothers', 'mouth', 'move', 'moved', 'movie', 'movies', 'moving', 'mr', 'ms', 'msn', 'mtv', 'much', 'mum', 'music', 'must', 'my', 'myloc', 'mypict', 'myself', 'myspace', 'na', 'nah', 'nails', 'name', 'nap', 'nasty', 'nd', 'near', 'nearly', 'neck', 'need', 'needed', 'needs', 'nervous', 'net', 'network', 'never', 'new', 'news', 'next', 'ng', 'nice', 'nick', 'night', 'nightmare', 'nights', 'nite', 'nkotb', 'no', 'nobody', 'non', 'none', 'nooo', 'noooo', 'nope', 'normal', 'north', 'nose', 'not', 'note', 'nothing', 'notice', 'noticed', 'now', 'number', 'ny', 'nyc', 'obviously', 'of', 'off', 'office', 'official', 'officially', 'often', 'oh', 'ohh', 'ohhh', 'ok', 'okay', 'old', 'omg', 'on', 'once', 'one', 'ones', 'online', 'only', 'onto', 'ooh', 'oooh', 'oops', 'open', 'opening', 'or', 'orange', 'order', 'ordered', 'org', 'original', 'orlando', 'os', 'other', 'others', 'ouch', 'our', 'out', 'outside', 'outta', 'over', 'ow', 'own', 'pack', 'packed', 'packing', 'page', 'pages', 'paid', 'pain', 'painful', 'painting', 'pair', 'pancakes', 'pants', 'paper', 'parents', 'paris', 'park', 'part', 'party', 'pass', 'passed', 'past', 'paul', 'pay', 'paying', 'pc', 'peace', 'peeps', 'people', 'perfect', 'perhaps', 'person', 'personal', 'phone', 'photo', 'photos', 'pic', 'pick', 'picked', 'pics', 'picture', 'pictures', 'piece', 'pink', 'pissed', 'pizza', 'place', 'places', 'plan', 'plane', 'planned', 'planning', 'plans', 'play', 'played', 'playing', 'please', 'pleasure', 'pls', 'plurk', 'plus', 'plz', 'pm', 'point', 'points', 'pool', 'poor', 'pop', 'positive', 'possible', 'possibly', 'post', 'posted', 'potter', 'power', 'ppl', 'practice', 'pray', 'praying', 'pre', 'preparing', 'present', 'pretty', 'price', 'pro', 'prob', 'probably', 'problem', 'problems', 'productive', 'profile', 'project', 'prom', 'promise', 'proud', 'ps', 'public', 'pulled', 'puppy', 'purple', 'put', 'putting', 'question', 'questions', 'quick', 'quiet', 'quit', 'quite', 'quot', 'quote', 'race', 'radio', 'rain', 'raining', 'rainy', 'ran', 'random', 'rather', 're', 'read', 'reading', 'ready', 'real', 'reality', 'realize', 'realized', 'really', 'reason', 'received', 'recently', 'record', 'red', 'related', 'relax', 'relaxing', 'release', 'released', 'remember', 'remembered', 'reminds', 'reply', 'report', 'response', 'rest', 'results', 'return', 'review', 'revising', 'revision', 'rice', 'rid', 'ride', 'riding', 'right', 'ring', 'rip', 'rite', 'road', 'rob', 'rock', 'rocks', 'roll', 'room', 'rough', 'round', 'row', 'ruined', 'run', 'running', 'ryan', 'sa', 'sad', 'sadly', 'safe', 'said', 'salad', 'sale', 'sam', 'same', 'san', 'sarah', 'sat', 'saturday', 'save', 'saw', 'say', 'saying', 'says', 'scared', 'scary', 'schedule', 'school', 'science', 'screen', 'search', 'season', 'seat', 'second', 'secret', 'see', 'seeing', 'seem', 'seems', 'seen', 'selenagomez', 'self', 'sell', 'send', 'sending', 'sense', 'sent', 'series', 'serious', 'seriously', 'server', 'service', 'session', 'set', 'sex', 'sexy', 'sg', 'shall', 'shame', 'share', 'sharing', 'she', 'shes', 'shift', 'shirt', 'shit', 'shitty', 'shoes', 'shoot', 'shop', 'shopping', 'short', 'shot', 'shots', 'should', 'shouldn', 'shout', 'show', 'shower', 'showing', 'shows', 'shut', 'sick', 'side', 'sigh', 'sign', 'signed', 'silly', 'simple', 'sims', 'since', 'sing', 'singing', 'single', 'sir', 'sis', 'sister', 'sisters', 'sit', 'site', 'sitting', 'six', 'size', 'skin', 'sky', 'sleep', 'sleeping', 'sleepy', 'slept', 'slightly', 'slow', 'slowly', 'small', 'smart', 'smell', 'smells', 'smh', 'smile', 'so', 'soccer', 'social', 'software', 'sold', 'some', 'somebody', 'somehow', 'someone', 'something', 'sometime', 'sometimes', 'somewhere', 'son', 'song', 'songs', 'soo', 'soon', 'sooo', 'soooo', 'sooooo', 'soooooo', 'sore', 'sorry', 'sort', 'soul', 'sound', 'sounds', 'soup', 'south', 'space', 'spam', 'spanish', 'speak', 'special', 'spend', 'spending', 'spent', 'spot', 'spring', 'squarespace', 'st', 'stage', 'stand', 'star', 'starbucks', 'stars', 'start', 'started', 'starting', 'starts', 'state', 'station', 'status', 'stay', 'stayed', 'staying', 'step', 'stick', 'still', 'stoked', 'stole', 'stomach', 'stop', 'stopped', 'store', 'stories', 'storm', 'story', 'straight', 'strange', 'street', 'stress', 'stressed', 'strong', 'stuck', 'student', 'studio', 'study', 'studying', 'stuff', 'stupid', 'style', 'success', 'such', 'suck', 'sucked', 'sucks', 'sugar', 'sum', 'summer', 'sun', 'sunburn', 'sunday', 'sunny', 'sunshine', 'super', 'support', 'suppose', 'supposed', 'sure', 'surgery', 'surprise', 'surprised', 'susan', 'sushi', 'sux', 'swear', 'sweet', 'sweetie', 'swim', 'swimming', 'swine', 'system', 'table', 'take', 'taken', 'takes', 'taking', 'talent', 'talk', 'talked', 'talking', 'tan', 'taste', 'taylor', 'taylorswift13', 'tea', 'teacher', 'team', 'tear', 'tears', 'tech', 'teeth', 'tell', 'telling', 'ten', 'terrible', 'test', 'testing', 'tests', 'texas', 'text', 'texting', 'tha', 'than', 'thank', 'thanks', 'thanx', 'that', 'thats', 'the', 'their', 'them', 'then', 'there', 'theres', 'these', 'they', 'thing', 'things', 'think', 'thinking', 'thinks', 'third', 'this', 'tho', 'those', 'though', 'thought', 'thoughts', 'three', 'throat', 'through', 'throw', 'thru', 'tht', 'thunder', 'thursday', 'thx', 'ticket', 'tickets', 'til', 'till', 'time', 'times', 'tiny', 'tinyurl', 'tip', 'tired', 'tix', 'to', 'toast', 'today', 'together', 'told', 'tom', 'tommcfly', 'tommorow', 'tomorrow', 'tonight', 'tonite', 'tons', 'too', 'took', 'tooo', 'top', 'topic', 'topics', 'total', 'totally', 'touch', 'tough', 'tour', 'town', 'tr', 'track', 'traffic', 'trailer', 'train', 'training', 'travel', 'treat', 'tree', 'trek', 'trending', 'tried', 'trip', 'trouble', 'truck', 'true', 'truly', 'trust', 'try', 'tryin', 'trying', 'tuesday', 'tumblr', 'tummy', 'turn', 'turned', 'turning', 'turns', 'tv', 'tweeps', 'tweet', 'tweetdeck', 'tweeted', 'tweeteradder', 'tweeters', 'tweeting', 'tweets', 'twice', 'twilight', 'twit', 'twitpic', 'twitter', 'twittering', 'twitters', 'two', 'txt', 'ty', 'type', 'ugh', 'ughh', 'ughhh', 'ugly', 'uh', 'uk', 'um', 'uncle', 'under', 'understand', 'unfortunately', 'uni', 'unless', 'until', 'up', 'update', 'updated', 'updates', 'updating', 'upgrade', 'upload', 'uploading', 'upset', 'ur', 'us', 'use', 'used', 'using', 'ustre', 'usual', 'usually', 'vacation', 've', 'vegas', 'version', 'very', 'via', 'vid', 'video', 'videos', 'view', 'vip', 'visit', 'voice', 'vote', 'voted', 'vs', 'wait', 'waiting', 'wake', 'waking', 'walk', 'walked', 'walking', 'wall', 'wanna', 'want', 'wanted', 'wanting', 'wants', 'warm', 'was', 'wash', 'washing', 'wasn', 'wasnt', 'waste', 'wat', 'watch', 'watched', 'watchin', 'watching', 'water', 'way', 'we', 'wear', 'wearing', 'weather', 'web', 'website', 'wed', 'wedding', 'wednesday', 'wee', 'week', 'weekend', 'weekends', 'weeks', 'weight', 'weird', 'welcome', 'well', 'went', 'were', 'west', 'wet', 'what', 'whatever', 'whats', 'when', 'where', 'which', 'while', 'white', 'who', 'whole', 'why', 'wife', 'wii', 'will', 'win', 'wind', 'window', 'windows', 'wine', 'winter', 'wish', 'wishes', 'wishing', 'wit', 'with', 'within', 'without', 'woke', 'woman', 'women', 'won', 'wonder', 'wonderful', 'wondering', 'wont', 'woo', 'woohoo', 'woot', 'word', 'wordpress', 'words', 'work', 'worked', 'workin', 'working', 'workout', 'works', 'world', 'worried', 'worries', 'worry', 'worse', 'worst', 'worth', 'would', 'wouldn', 'wow', 'write', 'writing', 'wrong', 'wrote', 'wtf', 'www', 'xbox', 'xd', 'xo', 'xoxo', 'xx', 'xxx', 'ya', 'yall', 'yard', 'yay', 'yea', 'yeah', 'year', 'years', 'yep', 'yes', 'yesterday', 'yet', 'yfrog', 'yo', 'york', 'you', 'young', 'your', 'youre', 'yours', 'yourself', 'youtube', 'yr', 'yum', 'yummy', 'yup']\n"
          ]
        },
        {
          "output_type": "stream",
          "name": "stderr",
          "text": [
            "/usr/local/lib/python3.8/dist-packages/sklearn/utils/deprecation.py:87: FutureWarning: Function get_feature_names is deprecated; get_feature_names is deprecated in 1.0 and will be removed in 1.2. Please use get_feature_names_out instead.\n",
            "  warnings.warn(msg, category=FutureWarning)\n"
          ]
        }
      ]
    },
    {
      "cell_type": "code",
      "source": [
        "# Count words using transform, not fit_transform, because we already learned all our words\n",
        "tweets_vectors = vectorizer.transform(tweets.text)\n",
        "tweets_words_df = pd.DataFrame(tweets_vectors.toarray(), columns=vectorizer.get_feature_names())\n",
        "tweets_words_df.head()"
      ],
      "metadata": {
        "colab": {
          "base_uri": "https://localhost:8080/",
          "height": 233
        },
        "id": "7wMM70OmBXpP",
        "outputId": "3981a295-226e-4c3f-80ec-80f9ea7e3609"
      },
      "execution_count": 16,
      "outputs": [
        {
          "output_type": "execute_result",
          "data": {
            "text/plain": [
              "    00  000   09   10  100   11   12   13   14  140  ...  young  your  youre  \\\n",
              "0  0.0  0.0  0.0  0.0  0.0  0.0  0.0  0.0  0.0  0.0  ...    0.0   0.0    0.0   \n",
              "1  0.0  0.0  0.0  0.0  0.0  0.0  0.0  0.0  0.0  0.0  ...    0.0   0.0    0.0   \n",
              "2  0.0  0.0  0.0  0.0  0.0  0.0  0.0  0.0  0.0  0.0  ...    0.0   0.0    0.0   \n",
              "3  0.0  0.0  0.0  0.0  0.0  0.0  0.0  0.0  0.0  0.0  ...    0.0   0.0    0.0   \n",
              "4  0.0  0.0  0.0  0.0  0.0  0.0  0.0  0.0  0.0  0.0  ...    0.0   0.0    0.0   \n",
              "\n",
              "   yours  yourself  youtube   yr  yum  yummy  yup  \n",
              "0    0.0       0.0      0.0  0.0  0.0    0.0  0.0  \n",
              "1    0.0       0.0      0.0  0.0  0.0    0.0  0.0  \n",
              "2    0.0       0.0      0.0  0.0  0.0    0.0  0.0  \n",
              "3    0.0       0.0      0.0  0.0  0.0    0.0  0.0  \n",
              "4    0.0       0.0      0.0  0.0  0.0    0.0  0.0  \n",
              "\n",
              "[5 rows x 2000 columns]"
            ],
            "text/html": [
              "\n",
              "  <div id=\"df-c0c22df9-b2f7-42d7-a256-57ff0b8bef32\">\n",
              "    <div class=\"colab-df-container\">\n",
              "      <div>\n",
              "<style scoped>\n",
              "    .dataframe tbody tr th:only-of-type {\n",
              "        vertical-align: middle;\n",
              "    }\n",
              "\n",
              "    .dataframe tbody tr th {\n",
              "        vertical-align: top;\n",
              "    }\n",
              "\n",
              "    .dataframe thead th {\n",
              "        text-align: right;\n",
              "    }\n",
              "</style>\n",
              "<table border=\"1\" class=\"dataframe\">\n",
              "  <thead>\n",
              "    <tr style=\"text-align: right;\">\n",
              "      <th></th>\n",
              "      <th>00</th>\n",
              "      <th>000</th>\n",
              "      <th>09</th>\n",
              "      <th>10</th>\n",
              "      <th>100</th>\n",
              "      <th>11</th>\n",
              "      <th>12</th>\n",
              "      <th>13</th>\n",
              "      <th>14</th>\n",
              "      <th>140</th>\n",
              "      <th>...</th>\n",
              "      <th>young</th>\n",
              "      <th>your</th>\n",
              "      <th>youre</th>\n",
              "      <th>yours</th>\n",
              "      <th>yourself</th>\n",
              "      <th>youtube</th>\n",
              "      <th>yr</th>\n",
              "      <th>yum</th>\n",
              "      <th>yummy</th>\n",
              "      <th>yup</th>\n",
              "    </tr>\n",
              "  </thead>\n",
              "  <tbody>\n",
              "    <tr>\n",
              "      <th>0</th>\n",
              "      <td>0.0</td>\n",
              "      <td>0.0</td>\n",
              "      <td>0.0</td>\n",
              "      <td>0.0</td>\n",
              "      <td>0.0</td>\n",
              "      <td>0.0</td>\n",
              "      <td>0.0</td>\n",
              "      <td>0.0</td>\n",
              "      <td>0.0</td>\n",
              "      <td>0.0</td>\n",
              "      <td>...</td>\n",
              "      <td>0.0</td>\n",
              "      <td>0.0</td>\n",
              "      <td>0.0</td>\n",
              "      <td>0.0</td>\n",
              "      <td>0.0</td>\n",
              "      <td>0.0</td>\n",
              "      <td>0.0</td>\n",
              "      <td>0.0</td>\n",
              "      <td>0.0</td>\n",
              "      <td>0.0</td>\n",
              "    </tr>\n",
              "    <tr>\n",
              "      <th>1</th>\n",
              "      <td>0.0</td>\n",
              "      <td>0.0</td>\n",
              "      <td>0.0</td>\n",
              "      <td>0.0</td>\n",
              "      <td>0.0</td>\n",
              "      <td>0.0</td>\n",
              "      <td>0.0</td>\n",
              "      <td>0.0</td>\n",
              "      <td>0.0</td>\n",
              "      <td>0.0</td>\n",
              "      <td>...</td>\n",
              "      <td>0.0</td>\n",
              "      <td>0.0</td>\n",
              "      <td>0.0</td>\n",
              "      <td>0.0</td>\n",
              "      <td>0.0</td>\n",
              "      <td>0.0</td>\n",
              "      <td>0.0</td>\n",
              "      <td>0.0</td>\n",
              "      <td>0.0</td>\n",
              "      <td>0.0</td>\n",
              "    </tr>\n",
              "    <tr>\n",
              "      <th>2</th>\n",
              "      <td>0.0</td>\n",
              "      <td>0.0</td>\n",
              "      <td>0.0</td>\n",
              "      <td>0.0</td>\n",
              "      <td>0.0</td>\n",
              "      <td>0.0</td>\n",
              "      <td>0.0</td>\n",
              "      <td>0.0</td>\n",
              "      <td>0.0</td>\n",
              "      <td>0.0</td>\n",
              "      <td>...</td>\n",
              "      <td>0.0</td>\n",
              "      <td>0.0</td>\n",
              "      <td>0.0</td>\n",
              "      <td>0.0</td>\n",
              "      <td>0.0</td>\n",
              "      <td>0.0</td>\n",
              "      <td>0.0</td>\n",
              "      <td>0.0</td>\n",
              "      <td>0.0</td>\n",
              "      <td>0.0</td>\n",
              "    </tr>\n",
              "    <tr>\n",
              "      <th>3</th>\n",
              "      <td>0.0</td>\n",
              "      <td>0.0</td>\n",
              "      <td>0.0</td>\n",
              "      <td>0.0</td>\n",
              "      <td>0.0</td>\n",
              "      <td>0.0</td>\n",
              "      <td>0.0</td>\n",
              "      <td>0.0</td>\n",
              "      <td>0.0</td>\n",
              "      <td>0.0</td>\n",
              "      <td>...</td>\n",
              "      <td>0.0</td>\n",
              "      <td>0.0</td>\n",
              "      <td>0.0</td>\n",
              "      <td>0.0</td>\n",
              "      <td>0.0</td>\n",
              "      <td>0.0</td>\n",
              "      <td>0.0</td>\n",
              "      <td>0.0</td>\n",
              "      <td>0.0</td>\n",
              "      <td>0.0</td>\n",
              "    </tr>\n",
              "    <tr>\n",
              "      <th>4</th>\n",
              "      <td>0.0</td>\n",
              "      <td>0.0</td>\n",
              "      <td>0.0</td>\n",
              "      <td>0.0</td>\n",
              "      <td>0.0</td>\n",
              "      <td>0.0</td>\n",
              "      <td>0.0</td>\n",
              "      <td>0.0</td>\n",
              "      <td>0.0</td>\n",
              "      <td>0.0</td>\n",
              "      <td>...</td>\n",
              "      <td>0.0</td>\n",
              "      <td>0.0</td>\n",
              "      <td>0.0</td>\n",
              "      <td>0.0</td>\n",
              "      <td>0.0</td>\n",
              "      <td>0.0</td>\n",
              "      <td>0.0</td>\n",
              "      <td>0.0</td>\n",
              "      <td>0.0</td>\n",
              "      <td>0.0</td>\n",
              "    </tr>\n",
              "  </tbody>\n",
              "</table>\n",
              "<p>5 rows × 2000 columns</p>\n",
              "</div>\n",
              "      <button class=\"colab-df-convert\" onclick=\"convertToInteractive('df-c0c22df9-b2f7-42d7-a256-57ff0b8bef32')\"\n",
              "              title=\"Convert this dataframe to an interactive table.\"\n",
              "              style=\"display:none;\">\n",
              "        \n",
              "  <svg xmlns=\"http://www.w3.org/2000/svg\" height=\"24px\"viewBox=\"0 0 24 24\"\n",
              "       width=\"24px\">\n",
              "    <path d=\"M0 0h24v24H0V0z\" fill=\"none\"/>\n",
              "    <path d=\"M18.56 5.44l.94 2.06.94-2.06 2.06-.94-2.06-.94-.94-2.06-.94 2.06-2.06.94zm-11 1L8.5 8.5l.94-2.06 2.06-.94-2.06-.94L8.5 2.5l-.94 2.06-2.06.94zm10 10l.94 2.06.94-2.06 2.06-.94-2.06-.94-.94-2.06-.94 2.06-2.06.94z\"/><path d=\"M17.41 7.96l-1.37-1.37c-.4-.4-.92-.59-1.43-.59-.52 0-1.04.2-1.43.59L10.3 9.45l-7.72 7.72c-.78.78-.78 2.05 0 2.83L4 21.41c.39.39.9.59 1.41.59.51 0 1.02-.2 1.41-.59l7.78-7.78 2.81-2.81c.8-.78.8-2.07 0-2.86zM5.41 20L4 18.59l7.72-7.72 1.47 1.35L5.41 20z\"/>\n",
              "  </svg>\n",
              "      </button>\n",
              "      \n",
              "  <style>\n",
              "    .colab-df-container {\n",
              "      display:flex;\n",
              "      flex-wrap:wrap;\n",
              "      gap: 12px;\n",
              "    }\n",
              "\n",
              "    .colab-df-convert {\n",
              "      background-color: #E8F0FE;\n",
              "      border: none;\n",
              "      border-radius: 50%;\n",
              "      cursor: pointer;\n",
              "      display: none;\n",
              "      fill: #1967D2;\n",
              "      height: 32px;\n",
              "      padding: 0 0 0 0;\n",
              "      width: 32px;\n",
              "    }\n",
              "\n",
              "    .colab-df-convert:hover {\n",
              "      background-color: #E2EBFA;\n",
              "      box-shadow: 0px 1px 2px rgba(60, 64, 67, 0.3), 0px 1px 3px 1px rgba(60, 64, 67, 0.15);\n",
              "      fill: #174EA6;\n",
              "    }\n",
              "\n",
              "    [theme=dark] .colab-df-convert {\n",
              "      background-color: #3B4455;\n",
              "      fill: #D2E3FC;\n",
              "    }\n",
              "\n",
              "    [theme=dark] .colab-df-convert:hover {\n",
              "      background-color: #434B5C;\n",
              "      box-shadow: 0px 1px 3px 1px rgba(0, 0, 0, 0.15);\n",
              "      filter: drop-shadow(0px 1px 2px rgba(0, 0, 0, 0.3));\n",
              "      fill: #FFFFFF;\n",
              "    }\n",
              "  </style>\n",
              "\n",
              "      <script>\n",
              "        const buttonEl =\n",
              "          document.querySelector('#df-c0c22df9-b2f7-42d7-a256-57ff0b8bef32 button.colab-df-convert');\n",
              "        buttonEl.style.display =\n",
              "          google.colab.kernel.accessAllowed ? 'block' : 'none';\n",
              "\n",
              "        async function convertToInteractive(key) {\n",
              "          const element = document.querySelector('#df-c0c22df9-b2f7-42d7-a256-57ff0b8bef32');\n",
              "          const dataTable =\n",
              "            await google.colab.kernel.invokeFunction('convertToInteractive',\n",
              "                                                     [key], {});\n",
              "          if (!dataTable) return;\n",
              "\n",
              "          const docLinkHtml = 'Like what you see? Visit the ' +\n",
              "            '<a target=\"_blank\" href=https://colab.research.google.com/notebooks/data_table.ipynb>data table notebook</a>'\n",
              "            + ' to learn more about interactive tables.';\n",
              "          element.innerHTML = '';\n",
              "          dataTable['output_type'] = 'display_data';\n",
              "          await google.colab.output.renderOutput(dataTable, element);\n",
              "          const docLink = document.createElement('div');\n",
              "          docLink.innerHTML = docLinkHtml;\n",
              "          element.appendChild(docLink);\n",
              "        }\n",
              "      </script>\n",
              "    </div>\n",
              "  </div>\n",
              "  "
            ]
          },
          "metadata": {},
          "execution_count": 16
        }
      ]
    },
    {
      "cell_type": "code",
      "source": [
        "tweets_words_df.shape"
      ],
      "metadata": {
        "colab": {
          "base_uri": "https://localhost:8080/"
        },
        "id": "TokOAyYDCBk5",
        "outputId": "09c5165a-09ab-4b74-9415-b96edded085f"
      },
      "execution_count": 17,
      "outputs": [
        {
          "output_type": "execute_result",
          "data": {
            "text/plain": [
              "(10, 2000)"
            ]
          },
          "metadata": {},
          "execution_count": 17
        }
      ]
    },
    {
      "cell_type": "markdown",
      "source": [
        "##3.2 Predicting with our model\n",
        "\n",
        "To make a prediction for each of our tweets, we use `.predict` with our Linear-SVC model"
      ],
      "metadata": {
        "id": "OMCKaOj9CYK3"
      }
    },
    {
      "cell_type": "code",
      "source": [
        "# SVC predictions\n",
        "tweets['polarity'] = svc.predict(tweets_words_df)"
      ],
      "metadata": {
        "id": "rJUPansGCsm7"
      },
      "execution_count": 18,
      "outputs": []
    },
    {
      "cell_type": "code",
      "source": [
        "tweets"
      ],
      "metadata": {
        "colab": {
          "base_uri": "https://localhost:8080/",
          "height": 359
        },
        "id": "5gdLOi-bDJIb",
        "outputId": "b475af34-dfdd-4bbb-a585-8d073cacea01"
      },
      "execution_count": 19,
      "outputs": [
        {
          "output_type": "execute_result",
          "data": {
            "text/plain": [
              "                                                text  polarity\n",
              "0  Today, on International Civil Aviation Day, we...         1\n",
              "1  How can chemical production processes become m...         0\n",
              "2  Inditex and BASF have developed a detergent th...         0\n",
              "3  BASF to restore polluted Superfund site in New...         1\n",
              "4  “The damage done can never be wholly undone. N...         0\n",
              "5  The DEP announced a proposed voluntarily Natur...         1\n",
              "6  BASF to restore polluted Superfund site in New...         1\n",
              "7  BASF, the largest chemical producer in the wor...         1\n",
              "8  For the past 30 years, Lori Goucher, has slowl...         0\n",
              "9  On #InternationalVolunteerDay we celebrate vol...         1"
            ],
            "text/html": [
              "\n",
              "  <div id=\"df-75157378-2f66-4b49-a73b-d72f8594ac6a\">\n",
              "    <div class=\"colab-df-container\">\n",
              "      <div>\n",
              "<style scoped>\n",
              "    .dataframe tbody tr th:only-of-type {\n",
              "        vertical-align: middle;\n",
              "    }\n",
              "\n",
              "    .dataframe tbody tr th {\n",
              "        vertical-align: top;\n",
              "    }\n",
              "\n",
              "    .dataframe thead th {\n",
              "        text-align: right;\n",
              "    }\n",
              "</style>\n",
              "<table border=\"1\" class=\"dataframe\">\n",
              "  <thead>\n",
              "    <tr style=\"text-align: right;\">\n",
              "      <th></th>\n",
              "      <th>text</th>\n",
              "      <th>polarity</th>\n",
              "    </tr>\n",
              "  </thead>\n",
              "  <tbody>\n",
              "    <tr>\n",
              "      <th>0</th>\n",
              "      <td>Today, on International Civil Aviation Day, we...</td>\n",
              "      <td>1</td>\n",
              "    </tr>\n",
              "    <tr>\n",
              "      <th>1</th>\n",
              "      <td>How can chemical production processes become m...</td>\n",
              "      <td>0</td>\n",
              "    </tr>\n",
              "    <tr>\n",
              "      <th>2</th>\n",
              "      <td>Inditex and BASF have developed a detergent th...</td>\n",
              "      <td>0</td>\n",
              "    </tr>\n",
              "    <tr>\n",
              "      <th>3</th>\n",
              "      <td>BASF to restore polluted Superfund site in New...</td>\n",
              "      <td>1</td>\n",
              "    </tr>\n",
              "    <tr>\n",
              "      <th>4</th>\n",
              "      <td>“The damage done can never be wholly undone. N...</td>\n",
              "      <td>0</td>\n",
              "    </tr>\n",
              "    <tr>\n",
              "      <th>5</th>\n",
              "      <td>The DEP announced a proposed voluntarily Natur...</td>\n",
              "      <td>1</td>\n",
              "    </tr>\n",
              "    <tr>\n",
              "      <th>6</th>\n",
              "      <td>BASF to restore polluted Superfund site in New...</td>\n",
              "      <td>1</td>\n",
              "    </tr>\n",
              "    <tr>\n",
              "      <th>7</th>\n",
              "      <td>BASF, the largest chemical producer in the wor...</td>\n",
              "      <td>1</td>\n",
              "    </tr>\n",
              "    <tr>\n",
              "      <th>8</th>\n",
              "      <td>For the past 30 years, Lori Goucher, has slowl...</td>\n",
              "      <td>0</td>\n",
              "    </tr>\n",
              "    <tr>\n",
              "      <th>9</th>\n",
              "      <td>On #InternationalVolunteerDay we celebrate vol...</td>\n",
              "      <td>1</td>\n",
              "    </tr>\n",
              "  </tbody>\n",
              "</table>\n",
              "</div>\n",
              "      <button class=\"colab-df-convert\" onclick=\"convertToInteractive('df-75157378-2f66-4b49-a73b-d72f8594ac6a')\"\n",
              "              title=\"Convert this dataframe to an interactive table.\"\n",
              "              style=\"display:none;\">\n",
              "        \n",
              "  <svg xmlns=\"http://www.w3.org/2000/svg\" height=\"24px\"viewBox=\"0 0 24 24\"\n",
              "       width=\"24px\">\n",
              "    <path d=\"M0 0h24v24H0V0z\" fill=\"none\"/>\n",
              "    <path d=\"M18.56 5.44l.94 2.06.94-2.06 2.06-.94-2.06-.94-.94-2.06-.94 2.06-2.06.94zm-11 1L8.5 8.5l.94-2.06 2.06-.94-2.06-.94L8.5 2.5l-.94 2.06-2.06.94zm10 10l.94 2.06.94-2.06 2.06-.94-2.06-.94-.94-2.06-.94 2.06-2.06.94z\"/><path d=\"M17.41 7.96l-1.37-1.37c-.4-.4-.92-.59-1.43-.59-.52 0-1.04.2-1.43.59L10.3 9.45l-7.72 7.72c-.78.78-.78 2.05 0 2.83L4 21.41c.39.39.9.59 1.41.59.51 0 1.02-.2 1.41-.59l7.78-7.78 2.81-2.81c.8-.78.8-2.07 0-2.86zM5.41 20L4 18.59l7.72-7.72 1.47 1.35L5.41 20z\"/>\n",
              "  </svg>\n",
              "      </button>\n",
              "      \n",
              "  <style>\n",
              "    .colab-df-container {\n",
              "      display:flex;\n",
              "      flex-wrap:wrap;\n",
              "      gap: 12px;\n",
              "    }\n",
              "\n",
              "    .colab-df-convert {\n",
              "      background-color: #E8F0FE;\n",
              "      border: none;\n",
              "      border-radius: 50%;\n",
              "      cursor: pointer;\n",
              "      display: none;\n",
              "      fill: #1967D2;\n",
              "      height: 32px;\n",
              "      padding: 0 0 0 0;\n",
              "      width: 32px;\n",
              "    }\n",
              "\n",
              "    .colab-df-convert:hover {\n",
              "      background-color: #E2EBFA;\n",
              "      box-shadow: 0px 1px 2px rgba(60, 64, 67, 0.3), 0px 1px 3px 1px rgba(60, 64, 67, 0.15);\n",
              "      fill: #174EA6;\n",
              "    }\n",
              "\n",
              "    [theme=dark] .colab-df-convert {\n",
              "      background-color: #3B4455;\n",
              "      fill: #D2E3FC;\n",
              "    }\n",
              "\n",
              "    [theme=dark] .colab-df-convert:hover {\n",
              "      background-color: #434B5C;\n",
              "      box-shadow: 0px 1px 3px 1px rgba(0, 0, 0, 0.15);\n",
              "      filter: drop-shadow(0px 1px 2px rgba(0, 0, 0, 0.3));\n",
              "      fill: #FFFFFF;\n",
              "    }\n",
              "  </style>\n",
              "\n",
              "      <script>\n",
              "        const buttonEl =\n",
              "          document.querySelector('#df-75157378-2f66-4b49-a73b-d72f8594ac6a button.colab-df-convert');\n",
              "        buttonEl.style.display =\n",
              "          google.colab.kernel.accessAllowed ? 'block' : 'none';\n",
              "\n",
              "        async function convertToInteractive(key) {\n",
              "          const element = document.querySelector('#df-75157378-2f66-4b49-a73b-d72f8594ac6a');\n",
              "          const dataTable =\n",
              "            await google.colab.kernel.invokeFunction('convertToInteractive',\n",
              "                                                     [key], {});\n",
              "          if (!dataTable) return;\n",
              "\n",
              "          const docLinkHtml = 'Like what you see? Visit the ' +\n",
              "            '<a target=\"_blank\" href=https://colab.research.google.com/notebooks/data_table.ipynb>data table notebook</a>'\n",
              "            + ' to learn more about interactive tables.';\n",
              "          element.innerHTML = '';\n",
              "          dataTable['output_type'] = 'display_data';\n",
              "          await google.colab.output.renderOutput(dataTable, element);\n",
              "          const docLink = document.createElement('div');\n",
              "          docLink.innerHTML = docLinkHtml;\n",
              "          element.appendChild(docLink);\n",
              "        }\n",
              "      </script>\n",
              "    </div>\n",
              "  </div>\n",
              "  "
            ]
          },
          "metadata": {},
          "execution_count": 19
        }
      ]
    },
    {
      "cell_type": "markdown",
      "source": [
        "#4. Test Model"
      ],
      "metadata": {
        "id": "y_-eGT3WIAfx"
      }
    },
    {
      "cell_type": "code",
      "source": [
        "X_train, X_test, y_train, y_test = train_test_split(X, y)"
      ],
      "metadata": {
        "id": "IHulspOLEHTo"
      },
      "execution_count": 20,
      "outputs": []
    },
    {
      "cell_type": "code",
      "source": [
        "print(\"Training SVC\")\n",
        "svc.fit(X_train, y_train)"
      ],
      "metadata": {
        "colab": {
          "base_uri": "https://localhost:8080/"
        },
        "id": "Ae-BeQa4EMPF",
        "outputId": "7bd8b6f6-42e1-4d89-ff18-aae1f85634d9"
      },
      "execution_count": 21,
      "outputs": [
        {
          "output_type": "stream",
          "name": "stdout",
          "text": [
            "Training SVC\n"
          ]
        },
        {
          "output_type": "execute_result",
          "data": {
            "text/plain": [
              "LinearSVC()"
            ]
          },
          "metadata": {},
          "execution_count": 21
        }
      ]
    },
    {
      "cell_type": "code",
      "source": [
        "y_true = y_test\n",
        "y_pred = svc.predict(X_test)\n",
        "matrix = confusion_matrix(y_true, y_pred)\n",
        "\n",
        "label_names = pd.Series(['negative', 'positive'])\n",
        "pd.DataFrame(matrix,\n",
        "     columns='Predicted ' + label_names,\n",
        "     index='Is ' + label_names).div(matrix.sum(axis=1), axis=0)"
      ],
      "metadata": {
        "colab": {
          "base_uri": "https://localhost:8080/",
          "height": 111
        },
        "id": "Kxyg4xsrHnm4",
        "outputId": "15474db9-6723-47ce-c6a0-c469c5db5c12"
      },
      "execution_count": 27,
      "outputs": [
        {
          "output_type": "execute_result",
          "data": {
            "text/plain": [
              "             Predicted negative  Predicted positive\n",
              "Is negative            0.759788            0.240212\n",
              "Is positive            0.217454            0.782546"
            ],
            "text/html": [
              "\n",
              "  <div id=\"df-2b3b0db3-744d-4565-a840-01993071f528\">\n",
              "    <div class=\"colab-df-container\">\n",
              "      <div>\n",
              "<style scoped>\n",
              "    .dataframe tbody tr th:only-of-type {\n",
              "        vertical-align: middle;\n",
              "    }\n",
              "\n",
              "    .dataframe tbody tr th {\n",
              "        vertical-align: top;\n",
              "    }\n",
              "\n",
              "    .dataframe thead th {\n",
              "        text-align: right;\n",
              "    }\n",
              "</style>\n",
              "<table border=\"1\" class=\"dataframe\">\n",
              "  <thead>\n",
              "    <tr style=\"text-align: right;\">\n",
              "      <th></th>\n",
              "      <th>Predicted negative</th>\n",
              "      <th>Predicted positive</th>\n",
              "    </tr>\n",
              "  </thead>\n",
              "  <tbody>\n",
              "    <tr>\n",
              "      <th>Is negative</th>\n",
              "      <td>0.759788</td>\n",
              "      <td>0.240212</td>\n",
              "    </tr>\n",
              "    <tr>\n",
              "      <th>Is positive</th>\n",
              "      <td>0.217454</td>\n",
              "      <td>0.782546</td>\n",
              "    </tr>\n",
              "  </tbody>\n",
              "</table>\n",
              "</div>\n",
              "      <button class=\"colab-df-convert\" onclick=\"convertToInteractive('df-2b3b0db3-744d-4565-a840-01993071f528')\"\n",
              "              title=\"Convert this dataframe to an interactive table.\"\n",
              "              style=\"display:none;\">\n",
              "        \n",
              "  <svg xmlns=\"http://www.w3.org/2000/svg\" height=\"24px\"viewBox=\"0 0 24 24\"\n",
              "       width=\"24px\">\n",
              "    <path d=\"M0 0h24v24H0V0z\" fill=\"none\"/>\n",
              "    <path d=\"M18.56 5.44l.94 2.06.94-2.06 2.06-.94-2.06-.94-.94-2.06-.94 2.06-2.06.94zm-11 1L8.5 8.5l.94-2.06 2.06-.94-2.06-.94L8.5 2.5l-.94 2.06-2.06.94zm10 10l.94 2.06.94-2.06 2.06-.94-2.06-.94-.94-2.06-.94 2.06-2.06.94z\"/><path d=\"M17.41 7.96l-1.37-1.37c-.4-.4-.92-.59-1.43-.59-.52 0-1.04.2-1.43.59L10.3 9.45l-7.72 7.72c-.78.78-.78 2.05 0 2.83L4 21.41c.39.39.9.59 1.41.59.51 0 1.02-.2 1.41-.59l7.78-7.78 2.81-2.81c.8-.78.8-2.07 0-2.86zM5.41 20L4 18.59l7.72-7.72 1.47 1.35L5.41 20z\"/>\n",
              "  </svg>\n",
              "      </button>\n",
              "      \n",
              "  <style>\n",
              "    .colab-df-container {\n",
              "      display:flex;\n",
              "      flex-wrap:wrap;\n",
              "      gap: 12px;\n",
              "    }\n",
              "\n",
              "    .colab-df-convert {\n",
              "      background-color: #E8F0FE;\n",
              "      border: none;\n",
              "      border-radius: 50%;\n",
              "      cursor: pointer;\n",
              "      display: none;\n",
              "      fill: #1967D2;\n",
              "      height: 32px;\n",
              "      padding: 0 0 0 0;\n",
              "      width: 32px;\n",
              "    }\n",
              "\n",
              "    .colab-df-convert:hover {\n",
              "      background-color: #E2EBFA;\n",
              "      box-shadow: 0px 1px 2px rgba(60, 64, 67, 0.3), 0px 1px 3px 1px rgba(60, 64, 67, 0.15);\n",
              "      fill: #174EA6;\n",
              "    }\n",
              "\n",
              "    [theme=dark] .colab-df-convert {\n",
              "      background-color: #3B4455;\n",
              "      fill: #D2E3FC;\n",
              "    }\n",
              "\n",
              "    [theme=dark] .colab-df-convert:hover {\n",
              "      background-color: #434B5C;\n",
              "      box-shadow: 0px 1px 3px 1px rgba(0, 0, 0, 0.15);\n",
              "      filter: drop-shadow(0px 1px 2px rgba(0, 0, 0, 0.3));\n",
              "      fill: #FFFFFF;\n",
              "    }\n",
              "  </style>\n",
              "\n",
              "      <script>\n",
              "        const buttonEl =\n",
              "          document.querySelector('#df-2b3b0db3-744d-4565-a840-01993071f528 button.colab-df-convert');\n",
              "        buttonEl.style.display =\n",
              "          google.colab.kernel.accessAllowed ? 'block' : 'none';\n",
              "\n",
              "        async function convertToInteractive(key) {\n",
              "          const element = document.querySelector('#df-2b3b0db3-744d-4565-a840-01993071f528');\n",
              "          const dataTable =\n",
              "            await google.colab.kernel.invokeFunction('convertToInteractive',\n",
              "                                                     [key], {});\n",
              "          if (!dataTable) return;\n",
              "\n",
              "          const docLinkHtml = 'Like what you see? Visit the ' +\n",
              "            '<a target=\"_blank\" href=https://colab.research.google.com/notebooks/data_table.ipynb>data table notebook</a>'\n",
              "            + ' to learn more about interactive tables.';\n",
              "          element.innerHTML = '';\n",
              "          dataTable['output_type'] = 'display_data';\n",
              "          await google.colab.output.renderOutput(dataTable, element);\n",
              "          const docLink = document.createElement('div');\n",
              "          docLink.innerHTML = docLinkHtml;\n",
              "          element.appendChild(docLink);\n",
              "        }\n",
              "      </script>\n",
              "    </div>\n",
              "  </div>\n",
              "  "
            ]
          },
          "metadata": {},
          "execution_count": 27
        }
      ]
    },
    {
      "cell_type": "code",
      "source": [
        "df_cm = pd.DataFrame(matrix,\n",
        "     columns='Pred ' + label_names,\n",
        "     index='Is ' + label_names).div(matrix.sum(axis=1), axis=0)\n",
        "sn.set(font_scale=1.4)\n",
        "sn.heatmap(df_cm, annot=True, annot_kws={\"size\": 16})\n",
        "\n",
        "plt.show()"
      ],
      "metadata": {
        "colab": {
          "base_uri": "https://localhost:8080/",
          "height": 273
        },
        "id": "HXgnqmb2GNl_",
        "outputId": "c6f38879-d2d9-40de-fd93-74796d9906ab"
      },
      "execution_count": 29,
      "outputs": [
        {
          "output_type": "display_data",
          "data": {
            "text/plain": [
              "<Figure size 432x288 with 2 Axes>"
            ],
            "image/png": "[encoded data removed]"
          },
          "metadata": {}
        }
      ]
    },
    {
      "cell_type": "markdown",
      "source": [
        "Is 75% accurracy good enough?"
      ],
      "metadata": {
        "id": "QBN4zNDDIp18"
      }
    }
  ]
}